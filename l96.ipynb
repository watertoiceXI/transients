{
 "cells": [
  {
   "cell_type": "code",
   "execution_count": 1,
   "metadata": {},
   "outputs": [],
   "source": [
    "import numpy as np\n",
    "import matplotlib.pyplot as plt\n",
    "%matplotlib inline\n",
    "import scipy.io\n",
    "import multiprocessing as mp\n",
    "from systems import *\n",
    "import os\n",
    "import Belousov_Zhabotinsky as BZ\n",
    "os.environ[\"KMP_DUPLICATE_LIB_OK\"]=\"TRUE\"\n"
   ]
  },
  {
   "cell_type": "code",
   "execution_count": 2,
   "metadata": {},
   "outputs": [],
   "source": [
    "N = 5  # Number of variables\n",
    "F = 8  # Forcing\n",
    "def L96(x):\n",
    "    \"\"\"Lorenz 96 model with constant forcing\"\"\"\n",
    "    # Setting up vector\n",
    "    d = np.zeros(N)\n",
    "    # Loops over indices (with operations and Python underflow indexing handling edge cases)\n",
    "    for i in range(N):\n",
    "        d[i] = (x[(i + 1) % N] - x[i - 2]) * x[i - 1] - x[i] + F\n",
    "    return d\n",
    "def J_L96(x):\n",
    "    \"\"\"Lorenz 96 model with constant forcing\"\"\"\n",
    "    # Setting up vector\n",
    "    J = np.zeros(N,N)\n",
    "    # Loops over indices (with operations and Python underflow indexing handling edge cases)\n",
    "    for i in range(N):\n",
    "        J[i,(i + 1) % N] =  x[i - 1]\n",
    "        J[i,i] = -1\n",
    "        J[i,i - 1] = (x[(i + 1) % N] - x[i - 2])\n",
    "        J[i,i - 2] =  -x[i - 1]\n",
    "    return J    \n",
    "def lorentz(x, sigma = 10, rho = 28, beta = 8/3):\n",
    "    dx = np.zeros((3,))\n",
    "    dx[0] = sigma * (x[1] - x[0])\n",
    "    dx[1] = x[0]*(rho - x[2]) - x[1]\n",
    "    dx[2] = x[0] * x[1] - beta * x[2]\n",
    "    return dx\n",
    "def Jlorentz(x, sigma = 10, rho = 28, beta = 8/3):\n",
    "    J=[[-sigma,    sigma,       0],\n",
    "       [rho - x[2],     -1,   -x[0]],\n",
    "       [x[1],           x[0], -beta]]\n",
    "    return J\n",
    "def aa(x, sigma = 10, rho = 28, beta = 8/3):\n",
    "    dx = np.zeros((3,))\n",
    "    dx[0] =  - x[0]\n",
    "    dx[1] =  - x[1]\n",
    "    dx[2] =  - x[2]\n",
    "    return dx\n",
    "def Jaa(x, sigma = 10, rho = 28, beta = 8/3):\n",
    "    J=- np.eye(3)\n",
    "    return np.array(J)\n"
   ]
  },
  {
   "cell_type": "code",
   "execution_count": 3,
   "metadata": {},
   "outputs": [],
   "source": [
    "def wtf_diff(x,axis=1):\n",
    "    s = list(x.shape)\n",
    "    x = x.reshape([-1,s[axis]])\n",
    "    s[axis]-=1\n",
    "    d = np.diff(x)\n",
    "    return d.reshape(s)"
   ]
  },
  {
   "cell_type": "code",
   "execution_count": 4,
   "metadata": {},
   "outputs": [],
   "source": [
    "def sample_spherical(npoints, ndim=3):\n",
    "    vec = np.random.randn(ndim, npoints)\n",
    "    vec /= np.linalg.norm(vec, axis=0)\n",
    "    return vec\n",
    "\n",
    "xrange, yrange, zrange = ((-30,30),(-40,40),(0,70))\n",
    "cent = np.expand_dims(np.array([np.mean(xrange),np.mean(yrange),np.mean(zrange)]),axis=1)\n",
    "cent = np.expand_dims(np.array([0,0,35]),axis=1)\n",
    "\n",
    "abc = 2*np.expand_dims(np.array([30,40,35]),axis=1)\n",
    "pnts = sample_spherical(1500,ndim=3)*abc + cent\n"
   ]
  },
  {
   "cell_type": "code",
   "execution_count": 5,
   "metadata": {},
   "outputs": [
    {
     "data": {
      "text/plain": [
       "array([-34.32616881, -59.11919309,  10.09413395])"
      ]
     },
     "execution_count": 5,
     "metadata": {},
     "output_type": "execute_result"
    }
   ],
   "source": [
    "pnts[:,0]"
   ]
  },
  {
   "cell_type": "code",
   "execution_count": 6,
   "metadata": {},
   "outputs": [
    {
     "data": {
      "image/png": "[encoded data removed]",
      "text/plain": [
       "<Figure size 432x288 with 2 Axes>"
      ]
     },
     "metadata": {
      "needs_background": "light"
     },
     "output_type": "display_data"
    }
   ],
   "source": [
    "def plt5(x):\n",
    "    plt.figure()\n",
    "    plt.subplot(4,1,1)\n",
    "    if len(x.shape)==2:\n",
    "        plt.scatter(x[:,0],x[:,1],c='r')\n",
    "        plt.ylabel('y')\n",
    "        plt.subplot(4,1,2)\n",
    "        plt.scatter(x[:,0],x[:,2],c='r')\n",
    "        plt.ylabel('z')\n",
    "        plt.subplot(4,1,3)\n",
    "        plt.scatter(x[:,0],x[:,3],c='r')\n",
    "        plt.ylabel('a')\n",
    "        plt.subplot(4,1,4)\n",
    "        plt.scatter(x[:,0],x[:,4],c='r')\n",
    "    else:\n",
    "        for n in range(x.shape[1]):\n",
    "            plt.scatter(x[:,n,0],x[:,n,1])\n",
    "        plt.ylabel('y')\n",
    "        plt.subplot(4,1,2)\n",
    "        for n in range(x.shape[1]):\n",
    "            plt.scatter(x[:,n,0],x[:,n,2])\n",
    "        plt.ylabel('z')\n",
    "        plt.subplot(4,1,3)\n",
    "        for n in range(x.shape[1]):\n",
    "            plt.scatter(x[:,n,0],x[:,n,3])\n",
    "        plt.ylabel('a')\n",
    "        plt.subplot(4,1,4)\n",
    "        for n in range(x.shape[1]):\n",
    "            plt.scatter(x[:,n,0],x[:,n,4])\n",
    "    plt.ylabel('b')\n",
    "    plt.xlabel('x')\n",
    "    plt.show()\n",
    "def plt3(x):\n",
    "    plt.figure()\n",
    "    plt.subplot(2,1,1)\n",
    "    if len(x.shape)==2:\n",
    "        plt.scatter(x[:,0],x[:,1],c='r')\n",
    "        plt.ylabel('y')\n",
    "        plt.subplot(2,1,2)\n",
    "        plt.scatter(x[:,0],x[:,2],c='r')\n",
    "    else:\n",
    "        for n in range(x.shape[1]):\n",
    "            plt.scatter(x[:,n,0],x[:,n,1])\n",
    "        plt.ylabel('y')\n",
    "        plt.subplot(2,1,2)\n",
    "        for n in range(x.shape[1]):\n",
    "            plt.scatter(x[:,n,0],x[:,n,2])\n",
    "    plt.ylabel('z')\n",
    "    plt.xlabel('x')\n",
    "    plt.show()\n",
    "\n",
    "def pltN(x):\n",
    "    N = x.shape[-1]\n",
    "    plt.figure(figsize=[11,11])\n",
    "    if len(x.shape)==2:\n",
    "        for q in range(N-1):\n",
    "            plt.subplot(N,q+1,1)\n",
    "            plt.scatter(x[:,0],x[:,q+1],c='r')\n",
    "    else:\n",
    "        for q in range(N-1):\n",
    "            for n in range(x.shape[1]):\n",
    "                plt.subplot(N,q+1,1)\n",
    "                plt.scatter(x[:,n,0],x[:,n,q+1])\n",
    "    plt.show()\n",
    "\n",
    "plt3(pnts.T)"
   ]
  },
  {
   "cell_type": "code",
   "execution_count": 7,
   "metadata": {},
   "outputs": [],
   "source": [
    "T = 100\n",
    "DT=0.001\n",
    "substeps=2\n",
    "num = 1000\n",
    "spread = 0.01\n",
    "f = lorentz\n",
    "Jf = Jlorentz\n",
    "N=3\n",
    "states = spread*np.random.randn(num,N)+pnts[:,0]\n",
    "def step(states):\n",
    "    oldstates = np.copy(states)\n",
    "    for j in range(substeps):\n",
    "        states = rk_iter_nophi(dt,f,Jf,states)\n",
    "    return states, np.mean(oldstates-states,axis=0)\n",
    "def rk_iter_nophi(dt,f,Df,states):\n",
    "    for i in range(len(states)):\n",
    "        state = states[i]\n",
    "        k1=dt*f(state)\n",
    "        k2=dt*f(state+k1/2)\n",
    "        k3=dt*f(state+k2/2)\n",
    "        k4=dt*f(state+k3)\n",
    "        states[i]=state+k1/6+k2/3+k3/3+k4/6\n",
    "    return states\n",
    "class rot_keeper(object):\n",
    "    def __init__(self,d=3):\n",
    "        assert(d>2)\n",
    "        self.d=d\n",
    "        self.e1 = np.zeros(d)\n",
    "        self.e1[0]=1.0\n",
    "        self.e1_sm = np.zeros(d-1)\n",
    "        self.e1_sm[0]=1.0\n",
    "        self.e2 = np.zeros(d)\n",
    "        self.e2[1]=1.0\n",
    "        self.R = np.eye(d)\n",
    "\n",
    "    def get_rot(self,u):\n",
    "        Rs = utils.rot_mat(u,self.e1)\n",
    "        e2old = self.R.T@self.e2\n",
    "        Rpp = np.eye(self.d)\n",
    "        Rpp[1:,1:] = utils.rot_mat((Rs@e2old)[1:],self.e1_sm)\n",
    "        Rs = Rpp @ Rs\n",
    "        self.R = Rs\n",
    "        return Rs\n",
    "\n",
    "\n",
    "#initializing variables\n",
    "dt = DT/substeps\n",
    "X = np.zeros((T,num,N))\n",
    "RX = np.zeros((T,num,N))\n",
    "rotation_manager = rot_keeper(d=N)\n",
    "allRots = np.zeros((T,N,N))\n",
    "allG = np.zeros((T,N-1,N-1))\n",
    "allOmega = np.zeros((T,N))\n",
    "\n",
    "for i in range(T):\n",
    "    states, ds = step(states)\n",
    "    X[i] = states\n",
    "\n",
    "    allRots[i] = rotation_manager.get_rot(ds)\n",
    "    RX[i] = (allRots[i]@(states-np.mean(states,axis=0)).T).T\n",
    "    #RX[i] = (allRots[i]@(states-states[0]).T).T\n",
    "    \n",
    "    #allOmega[i,:] = Phi[0,:]#/np.sqrt(np.sum(ds**2))\n",
    "    #G = Phi[1:,1:]\n",
    "\n",
    "    #allG[i,:,:] = G"
   ]
  },
  {
   "cell_type": "code",
   "execution_count": 8,
   "metadata": {},
   "outputs": [
    {
     "data": {
      "image/png": "[encoded data removed]",
      "text/plain": [
       "<Figure size 792x792 with 1 Axes>"
      ]
     },
     "metadata": {
      "needs_background": "light"
     },
     "output_type": "display_data"
    }
   ],
   "source": [
    "pltN(RX)"
   ]
  },
  {
   "cell_type": "code",
   "execution_count": 9,
   "metadata": {},
   "outputs": [
    {
     "data": {
      "image/png": "[encoded data removed]",
      "text/plain": [
       "<Figure size 432x288 with 1 Axes>"
      ]
     },
     "metadata": {
      "needs_background": "light"
     },
     "output_type": "display_data"
    }
   ],
   "source": [
    "plt.figure()\n",
    "plt.plot(np.mean(np.abs(wtf_diff(RX)),axis=1))\n",
    "plt.legend([str(a) for a in range(RX.shape[1])])\n",
    "plt.show() "
   ]
  },
  {
   "cell_type": "code",
   "execution_count": 233,
   "metadata": {},
   "outputs": [
    {
     "data": {
      "text/plain": [
       "array([[ 2.22044605e-16,  2.77555756e-17, -2.77555756e-16],\n",
       "       [-2.22044605e-16,  0.00000000e+00,  2.77555756e-17],\n",
       "       [ 2.22044605e-16, -2.22044605e-16, -3.33066907e-16]])"
      ]
     },
     "execution_count": 233,
     "metadata": {},
     "output_type": "execute_result"
    }
   ],
   "source": [
    "def normal_equation(X,Y):\n",
    "    #sanity check failed\n",
    "    try:\n",
    "        XX = np.linalg.inv(X@X.T)\n",
    "    except np.linalg.LinAlgError:\n",
    "        print(f'cant inverse {X@X.T}')\n",
    "        raise np.linalg.LinAlgError\n",
    "    return ((XX@X)@Y.T).T\n",
    "X = np.random.randn(N,500)\n",
    "B = np.random.randn(N,N)\n",
    "Y=B@X\n",
    "B-normal_equation(X,Y)"
   ]
  },
  {
   "cell_type": "code",
   "execution_count": 234,
   "metadata": {},
   "outputs": [
    {
     "name": "stderr",
     "output_type": "stream",
     "text": [
      "C:\\Users\\water\\AppData\\Local\\Temp/ipykernel_18032/3482176461.py:4: FutureWarning: `rcond` parameter will change to the default of machine precision times ``max(M, N)`` where M and N are the input matrix dimensions.\n",
      "To use the future default and silence this warning we advise to pass `rcond=None`, to keep using the old, explicitly pass `rcond=-1`.\n",
      "  Gee.append(np.linalg.lstsq(g[:,:],100*d[:,:])[0])\n"
     ]
    }
   ],
   "source": [
    "diff = wtf_diff(RX)\n",
    "Gee = []\n",
    "for g,d in zip(RX[:-1],diff):\n",
    "    Gee.append(np.linalg.lstsq(g[:,:],100*d[:,:])[0])\n",
    "    #Gee.append(normal_equation(g[:,:].T,100*d[:,:].T))\n"
   ]
  },
  {
   "cell_type": "code",
   "execution_count": 235,
   "metadata": {},
   "outputs": [
    {
     "data": {
      "text/plain": [
       "(100, 1000, 3)"
      ]
     },
     "execution_count": 235,
     "metadata": {},
     "output_type": "execute_result"
    }
   ],
   "source": [
    "RX.shape"
   ]
  },
  {
   "cell_type": "code",
   "execution_count": 236,
   "metadata": {},
   "outputs": [
    {
     "data": {
      "image/png": "[encoded data removed]",
      "text/plain": [
       "<Figure size 432x288 with 1 Axes>"
      ]
     },
     "metadata": {
      "needs_background": "light"
     },
     "output_type": "display_data"
    },
    {
     "data": {
      "image/png": "[encoded data removed]",
      "text/plain": [
       "<Figure size 432x288 with 1 Axes>"
      ]
     },
     "metadata": {
      "needs_background": "light"
     },
     "output_type": "display_data"
    }
   ],
   "source": [
    "plt.figure()\n",
    "plt.plot(np.stack([G.flatten() for G in Gee],axis=1).T,'o-')\n",
    "plt.show()\n",
    "plt.figure()\n",
    "plt.plot([np.linalg.det(G) for G in Gee],'o-')\n",
    "plt.show()\n"
   ]
  },
  {
   "cell_type": "code",
   "execution_count": 124,
   "metadata": {},
   "outputs": [
    {
     "data": {
      "text/plain": [
       "(3, 3)"
      ]
     },
     "execution_count": 124,
     "metadata": {},
     "output_type": "execute_result"
    }
   ],
   "source": [
    "Gee[0].shape"
   ]
  },
  {
   "cell_type": "code",
   "execution_count": null,
   "metadata": {},
   "outputs": [],
   "source": []
  },
  {
   "cell_type": "code",
   "execution_count": 226,
   "metadata": {},
   "outputs": [],
   "source": [
    "def wtf_diff(X):\n",
    "    out = np.zeros_like(X)\n",
    "    for i in range(X.shape[0]-1):\n",
    "        out[i] = X[i+1]-X[i]\n",
    "    return out"
   ]
  },
  {
   "cell_type": "code",
   "execution_count": 12,
   "metadata": {},
   "outputs": [],
   "source": [
    "def norm(x):\n",
    "    return np.sqrt(np.sum(x**2))\n",
    "def normalize(x):\n",
    "    mag = norm(x)\n",
    "    return x / mag\n",
    "def rk_iter(dt,f,Df,Phi,state):()\n",
    "    k1=dt*Df(Phi,state)\n",
    "    k2=dt*Df(Phi+k1/2,state)\n",
    "    k3=dt*Df(Phi+k2/2,state)\n",
    "    k4=dt*Df(Phi+k3,state)\n",
    "    Phi=Phi+k1/6+k2/3+k3/3+k4/6\n",
    "\n",
    "    k1=dt*f(state)\n",
    "    k2=dt*f(state+k1/2)\n",
    "    k3=dt*f(state+k2/2)\n",
    "    k4=dt*f(state+k3)\n",
    "    state=state+k1/6+k2/3+k3/3+k4/6\n",
    "    return Phi, state\n",
    "def rk_iter_nophi(dt,f,Df,state):\n",
    "    k1=dt*f(state)\n",
    "    k2=dt*f(state+k1/2)\n",
    "    k3=dt*f(state+k2/2)\n",
    "    k4=dt*f(state+k3)\n",
    "    state=state+k1/6+k2/3+k3/3+k4/6\n",
    "    return state\n",
    "\n",
    "def couple_o_steps(f,Df,x0,DT,substeps,couple=10):\n",
    "    state = x0\n",
    "    for i in range(couple):\n",
    "        dt = DT/substeps\n",
    "        for j in range(substeps):\n",
    "            state = rk_iter_nophi(dt,f,Df,state) #mostly just using this for the state, so ignoring the phi. \n",
    "    return state\n",
    "\n",
    "\n",
    "def just_integrate(T,f,Df,x0,DT,substeps,transient=0,shorttime=1000):\n",
    "    def step(state):\n",
    "        delta_state = state\n",
    "        for j in range(substeps):\n",
    "            state = rk_iter_nophi(dt,f,Df,state)\n",
    "        delta_state = state-delta_state\n",
    "        return state, delta_state\n",
    "    dt = DT/substeps\n",
    "    state = x0\n",
    "    n=len(x0)\n",
    "    X = np.zeros((T,n))\n",
    "    for i in range(T+transient):\n",
    "        state, ds = step(state)\n",
    "        X[i] = state\n",
    "    return X\n",
    "\n",
    "\n",
    "def local_CLLV(T,f,Df,x0,DT,substeps,transient=1,shorttime=1000,init_spread=1):\n",
    "    \n",
    "    def step(state,Phi):\n",
    "        delta_state = state\n",
    "        for j in range(substeps):\n",
    "            Phi,state = rk_iter(dt,f,Df,Phi,state)\n",
    "        delta_state = state-delta_state\n",
    "        return state, Phi, delta_state\n",
    "\n",
    "    #initializing variables    \n",
    "    dt = DT/substeps\n",
    "    state = x0\n",
    "    n=len(x0)\n",
    "    X = np.zeros((T,n))\n",
    "    Phi = np.eye(n)\n",
    "    allPhi = np.zeros((T,n,n))\n",
    "    allGecobian = np.zeros((T,n-1,n-1))\n",
    "    allExpansionRates = np.zeros((T,n))\n",
    "    allExpansionRatesG = np.zeros((T,n-1))\n",
    "    LyapExp = np.zeros((n-1,))\n",
    "\n",
    "    shortTimeLyap = np.zeros((T+shorttime-1,n-1))\n",
    "    allBasis = np.zeros((T+transient,n,n))\n",
    "    allRs = np.zeros((T+transient,n,n))\n",
    "    allRgs = np.zeros((T+transient,n-1,n-1))\n",
    "    allRots = np.zeros((T+transient,n,n))\n",
    "    allBasis_g = np.zeros((T+transient,n-1,n-1))\n",
    "    allOmega = np.zeros((T+transient,n))\n",
    "\n",
    "    rotation_manager = utils.rot_keeper(d=3)\n",
    "\n",
    "    sigmas = init_spread*np.eye(n-1)\n",
    "\n",
    "    # get some inital values in 1 step\n",
    "\n",
    "    \"\"\"\n",
    "    state, Phi, ds = step(state,Phi)\n",
    "    print(Phi)\n",
    "    R = rotation_manager.get_rot(ds)\n",
    "\n",
    "    Rhi = R@Phi\n",
    "    Fhi = Rhi[0,:]\n",
    "    G = Rhi[1:,1:]\n",
    "\n",
    "    #LyapExp = (np.log(np.abs(rd))+LyapExp); #changed statement because i is zero indexed now   \n",
    "    basis_g = G\n",
    "    basis_g,r_g = np.linalg.qr(basis_g,'complete')\n",
    "    rd_g = np.diag(r_g)\n",
    "    basis_g = basis_g@np.diag(np.sign(rd_g))\n",
    "    rd_g = np.abs(rd_g)\n",
    "    G = basis_g\n",
    "    Phi[1:,1:] = G\n",
    "    Phi = R.T@Phi\n",
    "    \"\"\"\n",
    "    \n",
    "    for i in range(T+transient):\n",
    "\n",
    "        state, Phi, ds = step(state,Phi)\n",
    "\n",
    "        allRots[i] = rotation_manager.get_rot(ds)\n",
    "\n",
    "        Phi = allRots[i]@Phi\n",
    "        allOmega[i,:] = Phi[0,:]/ds\n",
    "        G = Phi[1:,1:]\n",
    "\n",
    "        basis_g = G\n",
    "        basis_g,r_g = np.linalg.qr(basis_g,'complete')\n",
    "        rd_g = np.diag(r_g)\n",
    "        basis_g = basis_g@np.diag(np.sign(rd_g))\n",
    "        r_g = np.diag(np.sign(rd_g))@r_g\n",
    "        LyapExp = (np.log(np.diag(r_g))+LyapExp*i)/(1+i)\n",
    "        G = basis_g\n",
    "        \n",
    "        Phi[1:,1:] = G\n",
    "        Phi = R.T@Phi\n",
    "\n",
    "        if i<=T-1:\n",
    "            X[i,:] = state\n",
    "            #allJacobian[i,:,:] = Phi@np.linalg.inv(basis) #replaces Phi/basis\n",
    "            allGecobian[i,:,:] = G@np.linalg.inv(basis_g) #replaces Phi/basis\n",
    "\n",
    "        allRgs[i,:,:] = r_g\n",
    "        allBasis_g[i,:,:] = basis_g\n",
    "\n",
    "        \n",
    "\n",
    "        if (i<T+shorttime-1):\n",
    "            shortTimeLyap[i,:] = np.log(np.diag(r_g))\n",
    "\n",
    "    shortTimeLyap[0:(T),:] = np.apply_along_axis(lambda m: np.convolve(m, np.ones(shorttime)/shorttime, mode='valid'), \n",
    "                                                    axis=0, arr=shortTimeLyap)\n",
    "    shortTimeLyap = shortTimeLyap[:T,:]/DT\n",
    "\n",
    "    coeff = np.triu(np.random.rand(n,n))\n",
    "    coeff_g = np.triu(np.random.rand(n-1,n-1))\n",
    "    for jj in range(n):\n",
    "        coeff[:,jj] = normalize(coeff[:,jj])\n",
    "    for jj in range(n-1):\n",
    "        coeff_g[:,jj] = normalize(coeff_g[:,jj])\n",
    "\n",
    "    for i in range(T+transient-1,0,-1):\n",
    "        #coeff = np.linalg.solve(np.squeeze(allRs[i,:,:]),coeff); # same as squeeze(allRs(i,:,:))\\coeff;\n",
    "        #coeff = np.triu(coeff)\n",
    "        coeff_g = np.linalg.solve(np.squeeze(allRgs[i,:,:]),coeff_g); # same as squeeze(allRs(i,:,:))\\coeff;\n",
    "        coeff_g = np.triu(coeff_g)\n",
    "\n",
    "        #for jj in range(n):\n",
    "            #if (i<=T-1):\n",
    "                #allExpansionRates[i,jj] = 1/norm(coeff[:,jj]) # ./ -> /\n",
    "            #coeff[:,jj] = normalize(coeff[:,jj])\n",
    "        for jj in range(n-1):\n",
    "            if (i<=T-1):\n",
    "                allExpansionRatesG[i,jj] = 1/norm(coeff_g[:,jj]) # ./ -> /\n",
    "            coeff_g[:,jj] = normalize(coeff_g[:,jj])\n",
    "\n",
    "        #allBasis[i,:,:] = np.squeeze(allBasis[i,:,:])@coeff\n",
    "        allBasis_g[i,:,:] = np.squeeze(allBasis_g[i,:,:])@coeff_g\n",
    "\n",
    "        #for jj in range(n):\n",
    "        #    allBasis[i,:,jj] = normalize(allBasis[i,:,jj])\n",
    "        for jj in range(n-1):\n",
    "            allBasis_g[i,:,jj] = normalize(allBasis_g[i,:,jj])\n",
    "\n",
    "    #allBasis = allBasis[:T,:,:]\n",
    "    allBasis_g = allBasis_g[:T,:,:]\n",
    "\n",
    "    return X, allBasis_g, allRgs, allJacobian, allGecobian, allExpansionRatesG, shortTimeLyap, allRots, LyapExp\n",
    "class rot_keeper(object):\n",
    "    def __init__(self,d=3):\n",
    "        assert(d>2)\n",
    "        self.d=d\n",
    "        self.e1 = np.zeros(d)\n",
    "        self.e1[0]=1.0\n",
    "        self.e1_sm = np.zeros(d-1)\n",
    "        self.e1_sm[0]=1.0\n",
    "        self.e2 = np.zeros(d)\n",
    "        self.e2[1]=1.0\n",
    "        self.R = np.eye(d)\n",
    "\n",
    "    def get_rot(self,u):\n",
    "        Rs = utils.rot_mat(u,self.e1)\n",
    "        e2old = self.R.T@self.e2\n",
    "        Rpp = np.eye(self.d)\n",
    "        Rpp[1:,1:] = utils.rot_mat((Rs@e2old)[1:],self.e1_sm)\n",
    "        Rs = Rpp @ Rs\n",
    "        self.R = Rs\n",
    "        return Rs\n",
    "def local_region(T,f,Jf,x0,DT,substeps,init_spread=1):\n",
    "    \n",
    "    def step(state):\n",
    "        for j in range(substeps):\n",
    "            state = rk_iter_nophi(dt,f,Jf,state)\n",
    "        return state, Jf(state), f(state)\n",
    "\n",
    "    #initializing variables    \n",
    "    dt = DT/substeps\n",
    "    state = x0\n",
    "    n=len(x0)\n",
    "    X = np.zeros((T,n))\n",
    "    Phi = np.eye(n)\n",
    "    allPhi = np.zeros((T,n,n))\n",
    "    rotation_manager = rot_keeper(d=3)\n",
    "    allRots = np.zeros((T,n,n))\n",
    "    allG = np.zeros((T,n-1,n-1))\n",
    "    allOmega = np.zeros((T,n))\n",
    "    allDs = np.zeros((T,n))\n",
    "\n",
    "    sigmas = init_spread*np.eye(n-1)\n",
    "\n",
    "    # get some inital values in 1 step\n",
    "\n",
    "    \"\"\"\n",
    "    state, Phi, ds = step(state,Phi)\n",
    "    print(Phi)\n",
    "    R = rotation_manager.get_rot(ds)\n",
    "\n",
    "    Rhi = R@Phi\n",
    "    Fhi = Rhi[0,:]\n",
    "    G = Rhi[1:,1:]\n",
    "\n",
    "    #LyapExp = (np.log(np.abs(rd))+LyapExp); #changed statement because i is zero indexed now   \n",
    "    basis_g = G\n",
    "    basis_g,r_g = np.linalg.qr(basis_g,'complete')\n",
    "    rd_g = np.diag(r_g)\n",
    "    basis_g = basis_g@np.diag(np.sign(rd_g))\n",
    "    rd_g = np.abs(rd_g)\n",
    "    G = basis_g\n",
    "    Phi[1:,1:] = G\n",
    "    Phi = R.T@Phi\n",
    "    \"\"\"\n",
    "    \n",
    "    for i in range(T):\n",
    "\n",
    "        state, Phi, ds = step(state)\n",
    "        allDs[i] = ds\n",
    "        X[i] = state\n",
    "\n",
    "        allRots[i] = rotation_manager.get_rot(ds)\n",
    "        print(Phi)\n",
    "        Phi = allRots[i]@Phi\n",
    "        print(Phi)\n",
    "        allOmega[i,:] = Phi[0,:]#/np.sqrt(np.sum(ds**2))\n",
    "        G = Phi[1:,1:]\n",
    "        print(allOmega[i,:])\n",
    "        print(G)\n",
    "\n",
    "        allG[i,:,:] = G\n",
    "        \n",
    "\n",
    "    return X, allG, allOmega, allRots, allDs\n"
   ]
  },
  {
   "cell_type": "code",
   "execution_count": null,
   "metadata": {},
   "outputs": [],
   "source": [
    "T = 50;\n",
    "DT=0.01;\n",
    "substeps=2;\n",
    "x0 = pnts[:,0]\n",
    "lborentz = lambda x:borentz(0,x)\n",
    "X, allG, allOmega, allRots, allDs = local_region(T,aa,Jaa,x0,DT,substeps)\n",
    "plt3(X)\n",
    "plt.figure()\n",
    "for i,G in enumerate(allG):\n",
    "    plt.scatter(G[:,0],G[:,1],c=[0,1])\n",
    "plt.show()"
   ]
  },
  {
   "cell_type": "code",
   "execution_count": null,
   "metadata": {},
   "outputs": [],
   "source": []
  },
  {
   "cell_type": "code",
   "execution_count": null,
   "metadata": {},
   "outputs": [],
   "source": []
  },
  {
   "cell_type": "code",
   "execution_count": null,
   "metadata": {},
   "outputs": [],
   "source": [
    "def plt3(x):\n",
    "    plt.figure()\n",
    "    plt.subplot(2,1,1)\n",
    "    plt.scatter(x[:,0],x[:,1],c='r')\n",
    "    plt.ylabel('y')\n",
    "    plt.subplot(2,1,2)\n",
    "    plt.scatter(x[:,0],x[:,2],c='r')\n",
    "    plt.ylabel('z')\n",
    "    plt.xlabel('x')\n",
    "    plt.show()\n",
    "def scat_and_dist(x,y,fig=None):\n",
    "    from matplotlib.gridspec import GridSpec\n",
    "\n",
    "    if fig is None:\n",
    "        fig = plt.figure()\n",
    "    gs = GridSpec(4, 4)\n",
    "\n",
    "    ax_scatter = fig.add_subplot(gs[1:4, 0:3])\n",
    "    ax_hist_x = fig.add_subplot(gs[0,0:3])\n",
    "    ax_hist_y = fig.add_subplot(gs[1:4, 3])\n",
    "\n",
    "    ax_scatter.scatter(x,y)\n",
    "    ax_scatter.axis('equal')\n",
    "\n",
    "    ax_hist_x.hist(x)\n",
    "    ax_hist_y.hist(y, orientation = 'horizontal')\n",
    "\n",
    "    plt.show()"
   ]
  },
  {
   "cell_type": "code",
   "execution_count": 314,
   "metadata": {},
   "outputs": [],
   "source": [
    "def borentz(t,x, sigma = 10, rho = 28, beta = 8/3):\n",
    "    dx = np.zeros((3,))\n",
    "    dx[0] =  (x[1] - x[0])\n",
    "    dx[1] = - x[2] - x[1]\n",
    "    dx[2] = x[0]  - beta * x[2]\n",
    "    return dx\n",
    "def Jborentz(x, sigma = 10, rho = 28, beta = 8/3):\n",
    "    J=[[-1,    1,       0],\n",
    "       [0,     -1,   -1],\n",
    "       [1,          0, -beta]]\n",
    "    return np.array(J)\n",
    "\n",
    "\n",
    "def aa(x, sigma = 10, rho = 28, beta = 8/3):\n",
    "    dx = np.zeros((3,))\n",
    "    dx[0] =  - x[0]\n",
    "    dx[1] =  - x[1]\n",
    "    dx[2] =  - x[2]\n",
    "    return dx\n",
    "def Jaa(x, sigma = 10, rho = 28, beta = 8/3):\n",
    "    J=- np.eye(3)\n",
    "    return np.array(J)\n"
   ]
  },
  {
   "cell_type": "code",
   "execution_count": 317,
   "metadata": {},
   "outputs": [
    {
     "name": "stdout",
     "output_type": "stream",
     "text": [
      "[[-1. -0. -0.]\n",
      " [-0. -1. -0.]\n",
      " [-0. -0. -1.]]\n",
      "[[ 5.77350269e-01  5.77350269e-01  5.77350269e-01]\n",
      " [ 4.08248290e-01 -8.16496581e-01  4.08248290e-01]\n",
      " [ 7.07106781e-01 -4.03199798e-17 -7.07106781e-01]]\n",
      "[0.57735027 0.57735027 0.57735027]\n",
      "[[-8.16496581e-01  4.08248290e-01]\n",
      " [-4.03199798e-17 -7.07106781e-01]]\n",
      "[[-1. -0. -0.]\n",
      " [-0. -1. -0.]\n",
      " [-0. -0. -1.]]\n",
      "[[ 5.77350269e-01  5.77350269e-01  5.77350269e-01]\n",
      " [ 4.08248290e-01 -8.16496581e-01  4.08248290e-01]\n",
      " [ 7.07106781e-01 -1.59929887e-16 -7.07106781e-01]]\n",
      "[0.57735027 0.57735027 0.57735027]\n",
      "[[-8.16496581e-01  4.08248290e-01]\n",
      " [-1.59929887e-16 -7.07106781e-01]]\n",
      "[[-1. -0. -0.]\n",
      " [-0. -1. -0.]\n",
      " [-0. -0. -1.]]\n",
      "[[ 5.77350269e-01  5.77350269e-01  5.77350269e-01]\n",
      " [ 4.08248290e-01 -8.16496581e-01  4.08248290e-01]\n",
      " [ 7.07106781e-01 -3.90562097e-16 -7.07106781e-01]]\n",
      "[0.57735027 0.57735027 0.57735027]\n",
      "[[-8.16496581e-01  4.08248290e-01]\n",
      " [-3.90562097e-16 -7.07106781e-01]]\n",
      "[[-1. -0. -0.]\n",
      " [-0. -1. -0.]\n",
      " [-0. -0. -1.]]\n",
      "[[ 5.77350269e-01  5.77350269e-01  5.77350269e-01]\n",
      " [ 4.08248290e-01 -8.16496581e-01  4.08248290e-01]\n",
      " [ 7.07106781e-01 -7.40804215e-16 -7.07106781e-01]]\n",
      "[0.57735027 0.57735027 0.57735027]\n",
      "[[-8.16496581e-01  4.08248290e-01]\n",
      " [-7.40804215e-16 -7.07106781e-01]]\n",
      "[[-1. -0. -0.]\n",
      " [-0. -1. -0.]\n",
      " [-0. -0. -1.]]\n",
      "[[ 5.77350269e-01  5.77350269e-01  5.77350269e-01]\n",
      " [ 4.08248290e-01 -8.16496581e-01  4.08248290e-01]\n",
      " [ 7.07106781e-01 -7.68559790e-16 -7.07106781e-01]]\n",
      "[0.57735027 0.57735027 0.57735027]\n",
      "[[-8.16496581e-01  4.08248290e-01]\n",
      " [-7.68559790e-16 -7.07106781e-01]]\n",
      "[[-1. -0. -0.]\n",
      " [-0. -1. -0.]\n",
      " [-0. -0. -1.]]\n",
      "[[ 5.77350269e-01  5.77350269e-01  5.77350269e-01]\n",
      " [ 4.08248290e-01 -8.16496581e-01  4.08248290e-01]\n",
      " [ 7.07106781e-01 -1.36295182e-15 -7.07106781e-01]]\n",
      "[0.57735027 0.57735027 0.57735027]\n",
      "[[-8.16496581e-01  4.08248290e-01]\n",
      " [-1.36295182e-15 -7.07106781e-01]]\n",
      "[[-1. -0. -0.]\n",
      " [-0. -1. -0.]\n",
      " [-0. -0. -1.]]\n",
      "[[ 5.77350269e-01  5.77350269e-01  5.77350269e-01]\n",
      " [ 4.08248290e-01 -8.16496581e-01  4.08248290e-01]\n",
      " [ 7.07106781e-01 -7.68559790e-16 -7.07106781e-01]]\n",
      "[0.57735027 0.57735027 0.57735027]\n",
      "[[-8.16496581e-01  4.08248290e-01]\n",
      " [-7.68559790e-16 -7.07106781e-01]]\n",
      "[[-1. -0. -0.]\n",
      " [-0. -1. -0.]\n",
      " [-0. -0. -1.]]\n",
      "[[ 5.77350269e-01  5.77350269e-01  5.77350269e-01]\n",
      " [ 4.08248290e-01 -8.16496581e-01  4.08248290e-01]\n",
      " [ 7.07106781e-01 -1.11880191e-15 -7.07106781e-01]]\n",
      "[0.57735027 0.57735027 0.57735027]\n",
      "[[-8.16496581e-01  4.08248290e-01]\n",
      " [-1.11880191e-15 -7.07106781e-01]]\n",
      "[[-1. -0. -0.]\n",
      " [-0. -1. -0.]\n",
      " [-0. -0. -1.]]\n",
      "[[ 5.77350269e-01  5.77350269e-01  5.77350269e-01]\n",
      " [ 4.08248290e-01 -8.16496581e-01  4.08248290e-01]\n",
      " [ 7.07106781e-01 -1.53807287e-15 -7.07106781e-01]]\n",
      "[0.57735027 0.57735027 0.57735027]\n",
      "[[-8.16496581e-01  4.08248290e-01]\n",
      " [-1.53807287e-15 -7.07106781e-01]]\n",
      "[[-1. -0. -0.]\n",
      " [-0. -1. -0.]\n",
      " [-0. -0. -1.]]\n",
      "[[ 5.77350269e-01  5.77350269e-01  5.77350269e-01]\n",
      " [ 4.08248290e-01 -8.16496581e-01  4.08248290e-01]\n",
      " [ 7.07106781e-01 -1.11880191e-15 -7.07106781e-01]]\n",
      "[0.57735027 0.57735027 0.57735027]\n",
      "[[-8.16496581e-01  4.08248290e-01]\n",
      " [-1.11880191e-15 -7.07106781e-01]]\n",
      "[[-1. -0. -0.]\n",
      " [-0. -1. -0.]\n",
      " [-0. -0. -1.]]\n",
      "[[ 5.77350269e-01  5.77350269e-01  5.77350269e-01]\n",
      " [ 4.08248290e-01 -8.16496581e-01  4.08248290e-01]\n",
      " [ 7.07106781e-01 -1.17431306e-15 -7.07106781e-01]]\n",
      "[0.57735027 0.57735027 0.57735027]\n",
      "[[-8.16496581e-01  4.08248290e-01]\n",
      " [-1.17431306e-15 -7.07106781e-01]]\n",
      "[[-1. -0. -0.]\n",
      " [-0. -1. -0.]\n",
      " [-0. -0. -1.]]\n",
      "[[ 5.77350269e-01  5.77350269e-01  5.77350269e-01]\n",
      " [ 4.08248290e-01 -8.16496581e-01  4.08248290e-01]\n",
      " [ 7.07106781e-01 -1.88831499e-15 -7.07106781e-01]]\n",
      "[0.57735027 0.57735027 0.57735027]\n",
      "[[-8.16496581e-01  4.08248290e-01]\n",
      " [-1.88831499e-15 -7.07106781e-01]]\n",
      "[[-1. -0. -0.]\n",
      " [-0. -1. -0.]\n",
      " [-0. -0. -1.]]\n",
      "[[ 5.77350269e-01  5.77350269e-01  5.77350269e-01]\n",
      " [ 4.08248290e-01 -8.16496581e-01  4.08248290e-01]\n",
      " [ 7.07106781e-01 -1.49679960e-15 -7.07106781e-01]]\n",
      "[0.57735027 0.57735027 0.57735027]\n",
      "[[-8.16496581e-01  4.08248290e-01]\n",
      " [-1.49679960e-15 -7.07106781e-01]]\n",
      "[[-1. -0. -0.]\n",
      " [-0. -1. -0.]\n",
      " [-0. -0. -1.]]\n",
      "[[ 5.77350269e-01  5.77350269e-01  5.77350269e-01]\n",
      " [ 4.08248290e-01 -8.16496581e-01  4.08248290e-01]\n",
      " [ 7.07106781e-01 -1.38479819e-15 -7.07106781e-01]]\n",
      "[0.57735027 0.57735027 0.57735027]\n",
      "[[-8.16496581e-01  4.08248290e-01]\n",
      " [-1.38479819e-15 -7.07106781e-01]]\n",
      "[[-1. -0. -0.]\n",
      " [-0. -1. -0.]\n",
      " [-0. -0. -1.]]\n",
      "[[ 5.77350269e-01  5.77350269e-01  5.77350269e-01]\n",
      " [ 4.08248290e-01 -8.16496581e-01  4.08248290e-01]\n",
      " [ 7.07106781e-01 -1.94382614e-15 -7.07106781e-01]]\n",
      "[0.57735027 0.57735027 0.57735027]\n",
      "[[-8.16496581e-01  4.08248290e-01]\n",
      " [-1.94382614e-15 -7.07106781e-01]]\n",
      "[[-1. -0. -0.]\n",
      " [-0. -1. -0.]\n",
      " [-0. -0. -1.]]\n",
      "[[ 5.77350269e-01  5.77350269e-01  5.77350269e-01]\n",
      " [ 4.08248290e-01 -8.16496581e-01  4.08248290e-01]\n",
      " [ 7.07106781e-01 -1.91607057e-15 -7.07106781e-01]]\n",
      "[0.57735027 0.57735027 0.57735027]\n",
      "[[-8.16496581e-01  4.08248290e-01]\n",
      " [-1.91607057e-15 -7.07106781e-01]]\n",
      "[[-1. -0. -0.]\n",
      " [-0. -1. -0.]\n",
      " [-0. -0. -1.]]\n",
      "[[ 5.77350269e-01  5.77350269e-01  5.77350269e-01]\n",
      " [ 4.08248290e-01 -8.16496581e-01  4.08248290e-01]\n",
      " [ 7.07106781e-01 -1.91607057e-15 -7.07106781e-01]]\n",
      "[0.57735027 0.57735027 0.57735027]\n",
      "[[-8.16496581e-01  4.08248290e-01]\n",
      " [-1.91607057e-15 -7.07106781e-01]]\n",
      "[[-1. -0. -0.]\n",
      " [-0. -1. -0.]\n",
      " [-0. -0. -1.]]\n",
      "[[ 5.77350269e-01  5.77350269e-01  5.77350269e-01]\n",
      " [ 4.08248290e-01 -8.16496581e-01  4.08248290e-01]\n",
      " [ 7.07106781e-01 -1.87479729e-15 -7.07106781e-01]]\n",
      "[0.57735027 0.57735027 0.57735027]\n",
      "[[-8.16496581e-01  4.08248290e-01]\n",
      " [-1.87479729e-15 -7.07106781e-01]]\n",
      "[[-1. -0. -0.]\n",
      " [-0. -1. -0.]\n",
      " [-0. -0. -1.]]\n",
      "[[ 5.77350269e-01  5.77350269e-01  5.77350269e-01]\n",
      " [ 4.08248290e-01 -8.16496581e-01  4.08248290e-01]\n",
      " [ 7.07106781e-01 -2.07767393e-15 -7.07106781e-01]]\n",
      "[0.57735027 0.57735027 0.57735027]\n",
      "[[-8.16496581e-01  4.08248290e-01]\n",
      " [-2.07767393e-15 -7.07106781e-01]]\n",
      "[[-1. -0. -0.]\n",
      " [-0. -1. -0.]\n",
      " [-0. -0. -1.]]\n",
      "[[ 5.77350269e-01  5.77350269e-01  5.77350269e-01]\n",
      " [ 4.08248290e-01 -8.16496581e-01  4.08248290e-01]\n",
      " [ 7.07106781e-01 -2.25279499e-15 -7.07106781e-01]]\n",
      "[0.57735027 0.57735027 0.57735027]\n",
      "[[-8.16496581e-01  4.08248290e-01]\n",
      " [-2.25279499e-15 -7.07106781e-01]]\n",
      "[[-1. -0. -0.]\n",
      " [-0. -1. -0.]\n",
      " [-0. -0. -1.]]\n",
      "[[ 5.77350269e-01  5.77350269e-01  5.77350269e-01]\n",
      " [ 4.08248290e-01 -8.16496581e-01  4.08248290e-01]\n",
      " [ 7.07106781e-01 -2.25279499e-15 -7.07106781e-01]]\n",
      "[0.57735027 0.57735027 0.57735027]\n",
      "[[-8.16496581e-01  4.08248290e-01]\n",
      " [-2.25279499e-15 -7.07106781e-01]]\n",
      "[[-1. -0. -0.]\n",
      " [-0. -1. -0.]\n",
      " [-0. -0. -1.]]\n",
      "[[ 5.77350269e-01  5.77350269e-01  5.77350269e-01]\n",
      " [ 4.08248290e-01 -8.16496581e-01  4.08248290e-01]\n",
      " [ 7.07106781e-01 -2.60303710e-15 -7.07106781e-01]]\n",
      "[0.57735027 0.57735027 0.57735027]\n",
      "[[-8.16496581e-01  4.08248290e-01]\n",
      " [-2.60303710e-15 -7.07106781e-01]]\n",
      "[[-1. -0. -0.]\n",
      " [-0. -1. -0.]\n",
      " [-0. -0. -1.]]\n",
      "[[ 5.77350269e-01  5.77350269e-01  5.77350269e-01]\n",
      " [ 4.08248290e-01 -8.16496581e-01  4.08248290e-01]\n",
      " [ 7.07106781e-01 -2.63079268e-15 -7.07106781e-01]]\n",
      "[0.57735027 0.57735027 0.57735027]\n",
      "[[-8.16496581e-01  4.08248290e-01]\n",
      " [-2.63079268e-15 -7.07106781e-01]]\n",
      "[[-1. -0. -0.]\n",
      " [-0. -1. -0.]\n",
      " [-0. -0. -1.]]\n",
      "[[ 5.77350269e-01  5.77350269e-01  5.77350269e-01]\n",
      " [ 4.08248290e-01 -8.16496581e-01  4.08248290e-01]\n",
      " [ 7.07106781e-01 -2.98103480e-15 -7.07106781e-01]]\n",
      "[0.57735027 0.57735027 0.57735027]\n",
      "[[-8.16496581e-01  4.08248290e-01]\n",
      " [-2.98103480e-15 -7.07106781e-01]]\n",
      "[[-1. -0. -0.]\n",
      " [-0. -1. -0.]\n",
      " [-0. -0. -1.]]\n",
      "[[ 5.77350269e-01  5.77350269e-01  5.77350269e-01]\n",
      " [ 4.08248290e-01 -8.16496581e-01  4.08248290e-01]\n",
      " [ 7.07106781e-01 -2.80591374e-15 -7.07106781e-01]]\n",
      "[0.57735027 0.57735027 0.57735027]\n",
      "[[-8.16496581e-01  4.08248290e-01]\n",
      " [-2.80591374e-15 -7.07106781e-01]]\n",
      "[[-1. -0. -0.]\n",
      " [-0. -1. -0.]\n",
      " [-0. -0. -1.]]\n",
      "[[ 5.77350269e-01  5.77350269e-01  5.77350269e-01]\n",
      " [ 4.08248290e-01 -8.16496581e-01  4.08248290e-01]\n",
      " [ 7.07106781e-01 -2.98103480e-15 -7.07106781e-01]]\n",
      "[0.57735027 0.57735027 0.57735027]\n",
      "[[-8.16496581e-01  4.08248290e-01]\n",
      " [-2.98103480e-15 -7.07106781e-01]]\n",
      "[[-1. -0. -0.]\n",
      " [-0. -1. -0.]\n",
      " [-0. -0. -1.]]\n",
      "[[ 5.77350269e-01  5.77350269e-01  5.77350269e-01]\n",
      " [ 4.08248290e-01 -8.16496581e-01  4.08248290e-01]\n",
      " [ 7.07106781e-01 -3.03654595e-15 -7.07106781e-01]]\n",
      "[0.57735027 0.57735027 0.57735027]\n",
      "[[-8.16496581e-01  4.08248290e-01]\n",
      " [-3.03654595e-15 -7.07106781e-01]]\n",
      "[[-1. -0. -0.]\n",
      " [-0. -1. -0.]\n",
      " [-0. -0. -1.]]\n",
      "[[ 5.77350269e-01  5.77350269e-01  5.77350269e-01]\n",
      " [ 4.08248290e-01 -8.16496581e-01  4.08248290e-01]\n",
      " [ 7.07106781e-01 -3.38678807e-15 -7.07106781e-01]]\n",
      "[0.57735027 0.57735027 0.57735027]\n",
      "[[-8.16496581e-01  4.08248290e-01]\n",
      " [-3.38678807e-15 -7.07106781e-01]]\n",
      "[[-1. -0. -0.]\n",
      " [-0. -1. -0.]\n",
      " [-0. -0. -1.]]\n",
      "[[ 5.77350269e-01  5.77350269e-01  5.77350269e-01]\n",
      " [ 4.08248290e-01 -8.16496581e-01  4.08248290e-01]\n",
      " [ 7.07106781e-01 -3.73703018e-15 -7.07106781e-01]]\n",
      "[0.57735027 0.57735027 0.57735027]\n",
      "[[-8.16496581e-01  4.08248290e-01]\n",
      " [-3.73703018e-15 -7.07106781e-01]]\n",
      "[[-1. -0. -0.]\n",
      " [-0. -1. -0.]\n",
      " [-0. -0. -1.]]\n",
      "[[ 5.77350269e-01  5.77350269e-01  5.77350269e-01]\n",
      " [ 4.08248290e-01 -8.16496581e-01  4.08248290e-01]\n",
      " [ 7.07106781e-01 -4.15630115e-15 -7.07106781e-01]]\n",
      "[0.57735027 0.57735027 0.57735027]\n",
      "[[-8.16496581e-01  4.08248290e-01]\n",
      " [-4.15630115e-15 -7.07106781e-01]]\n",
      "[[-1. -0. -0.]\n",
      " [-0. -1. -0.]\n",
      " [-0. -0. -1.]]\n",
      "[[ 5.77350269e-01  5.77350269e-01  5.77350269e-01]\n",
      " [ 4.08248290e-01 -8.16496581e-01  4.08248290e-01]\n",
      " [ 7.07106781e-01 -3.79254133e-15 -7.07106781e-01]]\n",
      "[0.57735027 0.57735027 0.57735027]\n",
      "[[-8.16496581e-01  4.08248290e-01]\n",
      " [-3.79254133e-15 -7.07106781e-01]]\n",
      "[[-1. -0. -0.]\n",
      " [-0. -1. -0.]\n",
      " [-0. -0. -1.]]\n",
      "[[ 5.77350269e-01  5.77350269e-01  5.77350269e-01]\n",
      " [ 4.08248290e-01 -8.16496581e-01  4.08248290e-01]\n",
      " [ 7.07106781e-01 -3.96766239e-15 -7.07106781e-01]]\n",
      "[0.57735027 0.57735027 0.57735027]\n",
      "[[-8.16496581e-01  4.08248290e-01]\n",
      " [-3.96766239e-15 -7.07106781e-01]]\n",
      "[[-1. -0. -0.]\n",
      " [-0. -1. -0.]\n",
      " [-0. -0. -1.]]\n",
      "[[ 5.77350269e-01  5.77350269e-01  5.77350269e-01]\n",
      " [ 4.08248290e-01 -8.16496581e-01  4.08248290e-01]\n",
      " [ 7.07106781e-01 -4.14278345e-15 -7.07106781e-01]]\n",
      "[0.57735027 0.57735027 0.57735027]\n",
      "[[-8.16496581e-01  4.08248290e-01]\n",
      " [-4.14278345e-15 -7.07106781e-01]]\n",
      "[[-1. -0. -0.]\n",
      " [-0. -1. -0.]\n",
      " [-0. -0. -1.]]\n",
      "[[ 5.77350269e-01  5.77350269e-01  5.77350269e-01]\n",
      " [ 4.08248290e-01 -8.16496581e-01  4.08248290e-01]\n",
      " [ 7.07106781e-01 -4.31790451e-15 -7.07106781e-01]]\n",
      "[0.57735027 0.57735027 0.57735027]\n",
      "[[-8.16496581e-01  4.08248290e-01]\n",
      " [-4.31790451e-15 -7.07106781e-01]]\n",
      "[[-1. -0. -0.]\n",
      " [-0. -1. -0.]\n",
      " [-0. -0. -1.]]\n",
      "[[ 5.77350269e-01  5.77350269e-01  5.77350269e-01]\n",
      " [ 4.08248290e-01 -8.16496581e-01  4.08248290e-01]\n",
      " [ 7.07106781e-01 -4.56205442e-15 -7.07106781e-01]]\n",
      "[0.57735027 0.57735027 0.57735027]\n",
      "[[-8.16496581e-01  4.08248290e-01]\n",
      " [-4.56205442e-15 -7.07106781e-01]]\n",
      "[[-1. -0. -0.]\n",
      " [-0. -1. -0.]\n",
      " [-0. -0. -1.]]\n",
      "[[ 5.77350269e-01  5.77350269e-01  5.77350269e-01]\n",
      " [ 4.08248290e-01 -8.16496581e-01  4.08248290e-01]\n",
      " [ 7.07106781e-01 -4.14278345e-15 -7.07106781e-01]]\n",
      "[0.57735027 0.57735027 0.57735027]\n",
      "[[-8.16496581e-01  4.08248290e-01]\n",
      " [-4.14278345e-15 -7.07106781e-01]]\n",
      "[[-1. -0. -0.]\n",
      " [-0. -1. -0.]\n",
      " [-0. -0. -1.]]\n",
      "[[ 5.77350269e-01  5.77350269e-01  5.77350269e-01]\n",
      " [ 4.08248290e-01 -8.16496581e-01  4.08248290e-01]\n",
      " [ 7.07106781e-01 -4.31790451e-15 -7.07106781e-01]]\n",
      "[0.57735027 0.57735027 0.57735027]\n",
      "[[-8.16496581e-01  4.08248290e-01]\n",
      " [-4.31790451e-15 -7.07106781e-01]]\n",
      "[[-1. -0. -0.]\n",
      " [-0. -1. -0.]\n",
      " [-0. -0. -1.]]\n",
      "[[ 5.77350269e-01  5.77350269e-01  5.77350269e-01]\n",
      " [ 4.08248290e-01 -8.16496581e-01  4.08248290e-01]\n",
      " [ 7.07106781e-01 -4.31790451e-15 -7.07106781e-01]]\n",
      "[0.57735027 0.57735027 0.57735027]\n",
      "[[-8.16496581e-01  4.08248290e-01]\n",
      " [-4.31790451e-15 -7.07106781e-01]]\n",
      "[[-1. -0. -0.]\n",
      " [-0. -1. -0.]\n",
      " [-0. -0. -1.]]\n",
      "[[ 5.77350269e-01  5.77350269e-01  5.77350269e-01]\n",
      " [ 4.08248290e-01 -8.16496581e-01  4.08248290e-01]\n",
      " [ 7.07106781e-01 -4.31790451e-15 -7.07106781e-01]]\n",
      "[0.57735027 0.57735027 0.57735027]\n",
      "[[-8.16496581e-01  4.08248290e-01]\n",
      " [-4.31790451e-15 -7.07106781e-01]]\n",
      "[[-1. -0. -0.]\n",
      " [-0. -1. -0.]\n",
      " [-0. -0. -1.]]\n",
      "[[ 5.77350269e-01  5.77350269e-01  5.77350269e-01]\n",
      " [ 4.08248290e-01 -8.16496581e-01  4.08248290e-01]\n",
      " [ 7.07106781e-01 -4.56205442e-15 -7.07106781e-01]]\n",
      "[0.57735027 0.57735027 0.57735027]\n",
      "[[-8.16496581e-01  4.08248290e-01]\n",
      " [-4.56205442e-15 -7.07106781e-01]]\n",
      "[[-1. -0. -0.]\n",
      " [-0. -1. -0.]\n",
      " [-0. -0. -1.]]\n",
      "[[ 5.77350269e-01  5.77350269e-01  5.77350269e-01]\n",
      " [ 4.08248290e-01 -8.16496581e-01  4.08248290e-01]\n",
      " [ 7.07106781e-01 -4.14278345e-15 -7.07106781e-01]]\n",
      "[0.57735027 0.57735027 0.57735027]\n",
      "[[-8.16496581e-01  4.08248290e-01]\n",
      " [-4.14278345e-15 -7.07106781e-01]]\n",
      "[[-1. -0. -0.]\n",
      " [-0. -1. -0.]\n",
      " [-0. -0. -1.]]\n",
      "[[ 5.77350269e-01  5.77350269e-01  5.77350269e-01]\n",
      " [ 4.08248290e-01 -8.16496581e-01  4.08248290e-01]\n",
      " [ 7.07106781e-01 -4.31790451e-15 -7.07106781e-01]]\n",
      "[0.57735027 0.57735027 0.57735027]\n",
      "[[-8.16496581e-01  4.08248290e-01]\n",
      " [-4.31790451e-15 -7.07106781e-01]]\n",
      "[[-1. -0. -0.]\n",
      " [-0. -1. -0.]\n",
      " [-0. -0. -1.]]\n",
      "[[ 5.77350269e-01  5.77350269e-01  5.77350269e-01]\n",
      " [ 4.08248290e-01 -8.16496581e-01  4.08248290e-01]\n",
      " [ 7.07106781e-01 -4.31790451e-15 -7.07106781e-01]]\n",
      "[0.57735027 0.57735027 0.57735027]\n",
      "[[-8.16496581e-01  4.08248290e-01]\n",
      " [-4.31790451e-15 -7.07106781e-01]]\n",
      "[[-1. -0. -0.]\n",
      " [-0. -1. -0.]\n",
      " [-0. -0. -1.]]\n",
      "[[ 5.77350269e-01  5.77350269e-01  5.77350269e-01]\n",
      " [ 4.08248290e-01 -8.16496581e-01  4.08248290e-01]\n",
      " [ 7.07106781e-01 -4.31790451e-15 -7.07106781e-01]]\n",
      "[0.57735027 0.57735027 0.57735027]\n",
      "[[-8.16496581e-01  4.08248290e-01]\n",
      " [-4.31790451e-15 -7.07106781e-01]]\n",
      "[[-1. -0. -0.]\n",
      " [-0. -1. -0.]\n",
      " [-0. -0. -1.]]\n",
      "[[ 5.77350269e-01  5.77350269e-01  5.77350269e-01]\n",
      " [ 4.08248290e-01 -8.16496581e-01  4.08248290e-01]\n",
      " [ 7.07106781e-01 -4.31790451e-15 -7.07106781e-01]]\n",
      "[0.57735027 0.57735027 0.57735027]\n",
      "[[-8.16496581e-01  4.08248290e-01]\n",
      " [-4.31790451e-15 -7.07106781e-01]]\n",
      "[[-1. -0. -0.]\n",
      " [-0. -1. -0.]\n",
      " [-0. -0. -1.]]\n",
      "[[ 5.77350269e-01  5.77350269e-01  5.77350269e-01]\n",
      " [ 4.08248290e-01 -8.16496581e-01  4.08248290e-01]\n",
      " [ 7.07106781e-01 -4.31790451e-15 -7.07106781e-01]]\n",
      "[0.57735027 0.57735027 0.57735027]\n",
      "[[-8.16496581e-01  4.08248290e-01]\n",
      " [-4.31790451e-15 -7.07106781e-01]]\n",
      "[[-1. -0. -0.]\n",
      " [-0. -1. -0.]\n",
      " [-0. -0. -1.]]\n",
      "[[ 5.77350269e-01  5.77350269e-01  5.77350269e-01]\n",
      " [ 4.08248290e-01 -8.16496581e-01  4.08248290e-01]\n",
      " [ 7.07106781e-01 -4.31790451e-15 -7.07106781e-01]]\n",
      "[0.57735027 0.57735027 0.57735027]\n",
      "[[-8.16496581e-01  4.08248290e-01]\n",
      " [-4.31790451e-15 -7.07106781e-01]]\n",
      "[[-1. -0. -0.]\n",
      " [-0. -1. -0.]\n",
      " [-0. -0. -1.]]\n",
      "[[ 5.77350269e-01  5.77350269e-01  5.77350269e-01]\n",
      " [ 4.08248290e-01 -8.16496581e-01  4.08248290e-01]\n",
      " [ 7.07106781e-01 -4.31790451e-15 -7.07106781e-01]]\n",
      "[0.57735027 0.57735027 0.57735027]\n",
      "[[-8.16496581e-01  4.08248290e-01]\n",
      " [-4.31790451e-15 -7.07106781e-01]]\n",
      "[[-1. -0. -0.]\n",
      " [-0. -1. -0.]\n",
      " [-0. -0. -1.]]\n",
      "[[ 5.77350269e-01  5.77350269e-01  5.77350269e-01]\n",
      " [ 4.08248290e-01 -8.16496581e-01  4.08248290e-01]\n",
      " [ 7.07106781e-01 -4.31790451e-15 -7.07106781e-01]]\n",
      "[0.57735027 0.57735027 0.57735027]\n",
      "[[-8.16496581e-01  4.08248290e-01]\n",
      " [-4.31790451e-15 -7.07106781e-01]]\n",
      "[[-1. -0. -0.]\n",
      " [-0. -1. -0.]\n",
      " [-0. -0. -1.]]\n",
      "[[ 5.77350269e-01  5.77350269e-01  5.77350269e-01]\n",
      " [ 4.08248290e-01 -8.16496581e-01  4.08248290e-01]\n",
      " [ 7.07106781e-01 -4.31790451e-15 -7.07106781e-01]]\n",
      "[0.57735027 0.57735027 0.57735027]\n",
      "[[-8.16496581e-01  4.08248290e-01]\n",
      " [-4.31790451e-15 -7.07106781e-01]]\n"
     ]
    },
    {
     "data": {
      "image/png": "[encoded data removed]",
      "text/plain": [
       "<Figure size 432x288 with 2 Axes>"
      ]
     },
     "metadata": {
      "needs_background": "light"
     },
     "output_type": "display_data"
    },
    {
     "data": {
      "image/png": "[encoded data removed]",
      "text/plain": [
       "<Figure size 432x288 with 1 Axes>"
      ]
     },
     "metadata": {
      "needs_background": "light"
     },
     "output_type": "display_data"
    }
   ],
   "source": [
    "T = 50;\n",
    "DT=0.01;\n",
    "substeps=2;\n",
    "x0 = 45*np.ones((3,))# pnts[:,0]\n",
    "lborentz = lambda x:borentz(0,x)\n",
    "X, allG, allOmega, allRots, allDs = local_region(T,aa,Jaa,x0,DT,substeps)\n",
    "plt3(X)\n",
    "plt.figure()\n",
    "for i,G in enumerate(allG):\n",
    "    plt.scatter(G[:,0],G[:,1],c=[0,1])\n",
    "plt.show()"
   ]
  },
  {
   "cell_type": "code",
   "execution_count": 323,
   "metadata": {},
   "outputs": [
    {
     "data": {
      "text/plain": [
       "array([-0.51406411,  1.63956866, -0.2180658 ])"
      ]
     },
     "execution_count": 323,
     "metadata": {},
     "output_type": "execute_result"
    }
   ],
   "source": [
    "R@np.array([1,1,1])"
   ]
  },
  {
   "cell_type": "code",
   "execution_count": 318,
   "metadata": {},
   "outputs": [],
   "source": [
    "paths = []\n",
    "deltax = []\n",
    "npaths = 100\n",
    "spread = 0.1\n",
    "for n in range(npaths):\n",
    "    deltax.append(np.random.randn(3,)*spread)\n",
    "    paths.append(just_integrate(T,aa,Jaa,x0+deltax[-1],DT,substeps,transient=0,shorttime=5))\n"
   ]
  },
  {
   "cell_type": "code",
   "execution_count": 319,
   "metadata": {},
   "outputs": [
    {
     "data": {
      "image/png": "[encoded data removed]",
      "text/plain": [
       "<Figure size 432x288 with 2 Axes>"
      ]
     },
     "metadata": {
      "needs_background": "light"
     },
     "output_type": "display_data"
    }
   ],
   "source": [
    "plt.figure()\n",
    "plt.subplot(2,1,1)\n",
    "plt.scatter(X[:,0],X[:,1],c='r')\n",
    "for p in paths:\n",
    "    plt.scatter(p[:,0],p[:,1],c='k',s=1)\n",
    "plt.ylabel('y')\n",
    "plt.subplot(2,1,2)\n",
    "plt.scatter(X[:,0],X[:,2],c='r')\n",
    "for p in paths:\n",
    "    plt.scatter(p[:,0],p[:,2],c='k',s=1)\n",
    "plt.ylabel('z')\n",
    "plt.xlabel('x')\n",
    "plt.show()"
   ]
  },
  {
   "cell_type": "code",
   "execution_count": 320,
   "metadata": {},
   "outputs": [
    {
     "name": "stdout",
     "output_type": "stream",
     "text": [
      "[[-0.99922569 -0.0393448 ]\n",
      " [ 0.0393448  -0.99922569]]\n"
     ]
    },
    {
     "data": {
      "image/png": "[encoded data removed]",
      "text/plain": [
       "<Figure size 432x288 with 3 Axes>"
      ]
     },
     "metadata": {
      "needs_background": "light"
     },
     "output_type": "display_data"
    },
    {
     "name": "stdout",
     "output_type": "stream",
     "text": [
      "gx 0.0644\n",
      "gy 0.0564\n",
      "w 0.0623\n"
     ]
    },
    {
     "data": {
      "image/png": "[encoded data removed]",
      "text/plain": [
       "<Figure size 432x288 with 1 Axes>"
      ]
     },
     "metadata": {
      "needs_background": "light"
     },
     "output_type": "display_data"
    },
    {
     "data": {
      "image/png": "[encoded data removed]",
      "text/plain": [
       "<Figure size 432x288 with 2 Axes>"
      ]
     },
     "metadata": {
      "needs_background": "light"
     },
     "output_type": "display_data"
    }
   ],
   "source": [
    "#rotated\n",
    "at = -1\n",
    "\n",
    "xh = allRots[at]@X[at,:]\n",
    "ph = []\n",
    "for p in paths:\n",
    "    ph.append(xh-allRots[at]@p[at,:])\n",
    "\n",
    "ph = np.stack(ph)\n",
    "_,_,rr = np.linalg.svd(ph[:,1:])\n",
    "print(rr)\n",
    "ph[:,1:] = (rr@ph[:,1:].T).T\n",
    "\n",
    "scat_and_dist([p[1] for p in ph],[p[2] for p in ph])\n",
    "print(f'gx {np.std([p[1] for p in ph]):.4f}')\n",
    "print(f'gy {np.std([p[2] for p in ph]):.4f}')\n",
    "print(f'w {np.std([p[0] for p in ph]):.4f}')\n",
    "plt.figure()\n",
    "plt.hist([p[1] for p in ph])\n",
    "plt.xlabel('dt')\n",
    "plt.show()\n",
    "\n",
    "\n",
    "plt.figure()\n",
    "plt.subplot(2,1,1)\n",
    "plt.scatter(0,0,c='r')\n",
    "for p in ph:\n",
    "    plt.scatter(p[1],p[2],c='k',s=10)\n",
    "plt.ylabel(f'gy {np.std([p[2] for p in ph]):.4f}')\n",
    "plt.subplot(2,1,2)\n",
    "plt.scatter(0,0,c='r')\n",
    "for p in ph:\n",
    "    plt.scatter(p[1],p[0],c='k',s=10)\n",
    "plt.ylabel(f'dt {np.std([p[0] for p in ph]):.4f}')\n",
    "plt.xlabel(f'gx {np.std([p[1] for p in ph]):.4f}')\n",
    "plt.show()"
   ]
  },
  {
   "cell_type": "code",
   "execution_count": 321,
   "metadata": {},
   "outputs": [
    {
     "data": {
      "text/plain": [
       "array([0.08042981, 0.07021885])"
      ]
     },
     "execution_count": 321,
     "metadata": {},
     "output_type": "execute_result"
    }
   ],
   "source": [
    "s = spread*np.ones(2)\n",
    "for G in allG:\n",
    "    f = lambda q: G@q\n",
    "    dF = lambda q:q\n",
    "    s = couple_o_steps(f,dF,s,DT,substeps,couple=1)\n",
    "s"
   ]
  },
  {
   "cell_type": "code",
   "execution_count": 309,
   "metadata": {},
   "outputs": [
    {
     "data": {
      "text/plain": [
       "array([[-8.16496581e-01,  4.08248290e-01],\n",
       "       [-1.94382614e-15, -7.07106781e-01]])"
      ]
     },
     "execution_count": 309,
     "metadata": {},
     "output_type": "execute_result"
    }
   ],
   "source": [
    "G"
   ]
  },
  {
   "cell_type": "code",
   "execution_count": 245,
   "metadata": {},
   "outputs": [
    {
     "name": "stdout",
     "output_type": "stream",
     "text": [
      "[0.1 0.1]\n",
      "[0.09815472 0.09739372]\n",
      "[0.0963499  0.09484674]\n",
      "[0.09458471 0.09235834]\n",
      "[0.09285835 0.08992777]\n",
      "[0.09116999 0.08755423]\n",
      "[0.08951883 0.08523691]\n",
      "[0.08790407 0.08297496]\n",
      "[0.0863249  0.08076753]\n",
      "[0.08478055 0.0786137 ]\n",
      "[0.08327023 0.07651259]\n",
      "[0.08179317 0.07446326]\n",
      "[0.08034861 0.07246478]\n",
      "[0.0789358 0.0705162]\n",
      "[0.077554   0.06861657]\n",
      "[0.07620249 0.06676493]\n",
      "[0.07488055 0.06496031]\n",
      "[0.07358748 0.06320176]\n",
      "[0.07232259 0.06148829]\n",
      "[0.07108521 0.05981896]\n",
      "[0.06987467 0.0581928 ]\n",
      "[0.06869032 0.05660886]\n",
      "[0.06753153 0.05506619]\n",
      "[0.06639769 0.05356385]\n",
      "[0.06528817 0.05210091]\n",
      "[0.0642024  0.05067645]\n",
      "[0.06313978 0.04928956]\n",
      "[0.06209976 0.04793934]\n",
      "[0.06108178 0.0466249 ]\n",
      "[0.06008531 0.04534538]\n",
      "[0.05910981 0.0440999 ]\n",
      "[0.05815477 0.04288763]\n",
      "[0.05721971 0.04170773]\n",
      "[0.05630412 0.04055939]\n",
      "[0.05540754 0.0394418 ]\n",
      "[0.0545295  0.03835419]\n",
      "[0.05366956 0.03729577]\n",
      "[0.05282728 0.03626579]\n",
      "[0.05200223 0.03526352]\n",
      "[0.051194   0.03428823]\n",
      "[0.05040219 0.03333922]\n",
      "[0.04962639 0.03241579]\n",
      "[0.04886624 0.03151726]\n",
      "[0.04812136 0.03064298]\n",
      "[0.04739138 0.0297923 ]\n",
      "[0.04667597 0.02896458]\n",
      "[0.04597477 0.02815923]\n",
      "[0.04528745 0.02737563]\n",
      "[0.04461369 0.0266132 ]\n",
      "[0.04395318 0.02587137]\n"
     ]
    },
    {
     "data": {
      "text/plain": [
       "array([0.04330561, 0.02514958])"
      ]
     },
     "execution_count": 245,
     "metadata": {},
     "output_type": "execute_result"
    }
   ],
   "source": [
    "t = spread*np.ones(3)\n",
    "for g,w in zip(allG,allOmega):\n",
    "    f = lambda q: w.T@q\n",
    "    dF = lambda q:q\n",
    "    print(a)\n",
    "    a = couple_o_steps(f,dF,a,DT,substeps,couple=1)\n",
    "a"
   ]
  },
  {
   "cell_type": "code",
   "execution_count": 230,
   "metadata": {},
   "outputs": [
    {
     "data": {
      "text/plain": [
       "array([[[-9.98987577e-01, -1.11082698e+00],\n",
       "        [ 2.40764121e-15, -9.64727338e-01]],\n",
       "\n",
       "       [[-9.98495798e-01, -1.13476467e+00],\n",
       "        [ 1.73287397e-04, -9.74113318e-01]],\n",
       "\n",
       "       [[-9.97901549e-01, -1.15876161e+00],\n",
       "        [ 3.80379949e-04, -9.83261211e-01]],\n",
       "\n",
       "       [[-9.97202466e-01, -1.18280873e+00],\n",
       "        [ 6.19955271e-04, -9.92166805e-01]],\n",
       "\n",
       "       [[-9.96396238e-01, -1.20689688e+00],\n",
       "        [ 8.90599612e-04, -1.00082615e+00]],\n",
       "\n",
       "       [[-9.95480615e-01, -1.23101685e+00],\n",
       "        [ 1.19080908e-03, -1.00923556e+00]],\n",
       "\n",
       "       [[-9.94453408e-01, -1.25515936e+00],\n",
       "        [ 1.51899110e-03, -1.01739161e+00]],\n",
       "\n",
       "       [[-9.93312497e-01, -1.27931511e+00],\n",
       "        [ 1.87346610e-03, -1.02529119e+00]],\n",
       "\n",
       "       [[-9.92055828e-01, -1.30347475e+00],\n",
       "        [ 2.25246946e-03, -1.03293144e+00]],\n",
       "\n",
       "       [[-9.90681422e-01, -1.32762893e+00],\n",
       "        [ 2.65415364e-03, -1.04030981e+00]],\n",
       "\n",
       "       [[-9.89187374e-01, -1.35176828e+00],\n",
       "        [ 3.07659060e-03, -1.04742404e+00]],\n",
       "\n",
       "       [[-9.87571858e-01, -1.37588345e+00],\n",
       "        [ 3.51777431e-03, -1.05427217e+00]],\n",
       "\n",
       "       [[-9.85833126e-01, -1.39996510e+00],\n",
       "        [ 3.97562361e-03, -1.06085253e+00]],\n",
       "\n",
       "       [[-9.83969517e-01, -1.42400393e+00],\n",
       "        [ 4.44798517e-03, -1.06716379e+00]],\n",
       "\n",
       "       [[-9.81979452e-01, -1.44799069e+00],\n",
       "        [ 4.93263664e-03, -1.07320488e+00]],\n",
       "\n",
       "       [[-9.79861441e-01, -1.47191615e+00],\n",
       "        [ 5.42729003e-03, -1.07897508e+00]],\n",
       "\n",
       "       [[-9.77614082e-01, -1.49577120e+00],\n",
       "        [ 5.92959518e-03, -1.08447395e+00]],\n",
       "\n",
       "       [[-9.75236064e-01, -1.51954675e+00],\n",
       "        [ 6.43714340e-03, -1.08970136e+00]],\n",
       "\n",
       "       [[-9.72726169e-01, -1.54323384e+00],\n",
       "        [ 6.94747135e-03, -1.09465749e+00]],\n",
       "\n",
       "       [[-9.70083271e-01, -1.56682358e+00],\n",
       "        [ 7.45806487e-03, -1.09934284e+00]],\n",
       "\n",
       "       [[-9.67306340e-01, -1.59030720e+00],\n",
       "        [ 7.96636305e-03, -1.10375819e+00]],\n",
       "\n",
       "       [[-9.64394441e-01, -1.61367603e+00],\n",
       "        [ 8.46976239e-03, -1.10790462e+00]],\n",
       "\n",
       "       [[-9.61346734e-01, -1.63692155e+00],\n",
       "        [ 8.96562101e-03, -1.11178353e+00]],\n",
       "\n",
       "       [[-9.58162478e-01, -1.66003534e+00],\n",
       "        [ 9.45126297e-03, -1.11539658e+00]],\n",
       "\n",
       "       [[-9.54841029e-01, -1.68300914e+00],\n",
       "        [ 9.92398263e-03, -1.11874575e+00]],\n",
       "\n",
       "       [[-9.51381838e-01, -1.70583483e+00],\n",
       "        [ 1.03810491e-02, -1.12183327e+00]],\n",
       "\n",
       "       [[-9.47784456e-01, -1.72850445e+00],\n",
       "        [ 1.08197106e-02, -1.12466166e+00]],\n",
       "\n",
       "       [[-9.44048531e-01, -1.75101019e+00],\n",
       "        [ 1.12371992e-02, -1.12723372e+00]],\n",
       "\n",
       "       [[-9.40173807e-01, -1.77334441e+00],\n",
       "        [ 1.16307350e-02, -1.12955251e+00]],\n",
       "\n",
       "       [[-9.36160128e-01, -1.79549963e+00],\n",
       "        [ 1.19975310e-02, -1.13162133e+00]],\n",
       "\n",
       "       [[-9.32007432e-01, -1.81746858e+00],\n",
       "        [ 1.23347974e-02, -1.13344375e+00]],\n",
       "\n",
       "       [[-9.27715754e-01, -1.83924412e+00],\n",
       "        [ 1.26397460e-02, -1.13502358e+00]],\n",
       "\n",
       "       [[-9.23285223e-01, -1.86081934e+00],\n",
       "        [ 1.29095949e-02, -1.13636485e+00]],\n",
       "\n",
       "       [[-9.18716065e-01, -1.88218749e+00],\n",
       "        [ 1.31415731e-02, -1.13747182e+00]],\n",
       "\n",
       "       [[-9.14008597e-01, -1.90334201e+00],\n",
       "        [ 1.33329242e-02, -1.13834899e+00]],\n",
       "\n",
       "       [[-9.09163231e-01, -1.92427656e+00],\n",
       "        [ 1.34809116e-02, -1.13900104e+00]],\n",
       "\n",
       "       [[-9.04180469e-01, -1.94498496e+00],\n",
       "        [ 1.35828223e-02, -1.13943287e+00]],\n",
       "\n",
       "       [[-8.99060905e-01, -1.96546126e+00],\n",
       "        [ 1.36359711e-02, -1.13964955e+00]],\n",
       "\n",
       "       [[-8.93805222e-01, -1.98569968e+00],\n",
       "        [ 1.36377050e-02, -1.13965636e+00]],\n",
       "\n",
       "       [[-8.88414190e-01, -2.00569466e+00],\n",
       "        [ 1.35854071e-02, -1.13945872e+00]],\n",
       "\n",
       "       [[-8.82888667e-01, -2.02544083e+00],\n",
       "        [ 1.34765008e-02, -1.13906224e+00]],\n",
       "\n",
       "       [[-8.77229596e-01, -2.04493303e+00],\n",
       "        [ 1.33084533e-02, -1.13847267e+00]],\n",
       "\n",
       "       [[-8.71438006e-01, -2.06416629e+00],\n",
       "        [ 1.30787798e-02, -1.13769591e+00]],\n",
       "\n",
       "       [[-8.65515006e-01, -2.08313587e+00],\n",
       "        [ 1.27850469e-02, -1.13673799e+00]],\n",
       "\n",
       "       [[-8.59461788e-01, -2.10183719e+00],\n",
       "        [ 1.24248765e-02, -1.13560506e+00]],\n",
       "\n",
       "       [[-8.53279624e-01, -2.12026590e+00],\n",
       "        [ 1.19959490e-02, -1.13430339e+00]],\n",
       "\n",
       "       [[-8.46969864e-01, -2.13841784e+00],\n",
       "        [ 1.14960068e-02, -1.13283937e+00]],\n",
       "\n",
       "       [[-8.40533935e-01, -2.15628906e+00],\n",
       "        [ 1.09228577e-02, -1.13121946e+00]],\n",
       "\n",
       "       [[-8.33973339e-01, -2.17387579e+00],\n",
       "        [ 1.02743778e-02, -1.12945022e+00]],\n",
       "\n",
       "       [[-8.27289653e-01, -2.19117448e+00],\n",
       "        [ 9.54851442e-03, -1.12753828e+00]]])"
      ]
     },
     "execution_count": 230,
     "metadata": {},
     "output_type": "execute_result"
    }
   ],
   "source": [
    "def couple_o_steps(f,Df,x0,DT,substeps,couple=10):\n",
    "    state = x0\n",
    "    for i in range(couple):\n",
    "        dt = DT/substeps\n",
    "        for j in range(substeps):\n",
    "            state = rk_iter_nophi(dt,f,Df,state) #mostly just using this for the state, so ignoring the phi. \n",
    "    return state"
   ]
  },
  {
   "cell_type": "code",
   "execution_count": 197,
   "metadata": {},
   "outputs": [
    {
     "data": {
      "text/plain": [
       "0.009960178975268831"
      ]
     },
     "execution_count": 197,
     "metadata": {},
     "output_type": "execute_result"
    }
   ],
   "source": [
    "np.sqrt(np.sum((x[-1]-x[-2])**2))"
   ]
  },
  {
   "cell_type": "code",
   "execution_count": null,
   "metadata": {},
   "outputs": [],
   "source": []
  },
  {
   "cell_type": "code",
   "execution_count": 88,
   "metadata": {},
   "outputs": [
    {
     "data": {
      "image/png": "[encoded data removed]",
      "text/plain": [
       "<Figure size 432x288 with 2 Axes>"
      ]
     },
     "metadata": {
      "needs_background": "light"
     },
     "output_type": "display_data"
    },
    {
     "data": {
      "image/png": "[encoded data removed]",
      "text/plain": [
       "<Figure size 432x288 with 1 Axes>"
      ]
     },
     "metadata": {
      "needs_background": "light"
     },
     "output_type": "display_data"
    }
   ],
   "source": [
    "T = 1000;\n",
    "DT=0.001;\n",
    "substeps=2;\n",
    "x0 = pnts[:,0]\n",
    "llorentz = lambda x: lorentz(0,x)\n",
    "X, allBasisG, allRGs, allJacobian,allGecobian,allExpansionRatesG,shortTimeLyap, allRots, LyapExp = local_CLLV(T,llorentz,Dlorentz,x0,DT,substeps,transient=22,shorttime=5)\n",
    "plt3(X)\n",
    "plt.figure()\n",
    "plt.plot(shortTimeLyap)\n",
    "plt.show()"
   ]
  },
  {
   "cell_type": "code",
   "execution_count": null,
   "metadata": {},
   "outputs": [
    {
     "data": {
      "image/png": "[encoded data removed]",
      "text/plain": [
       "<Figure size 432x288 with 3 Axes>"
      ]
     },
     "metadata": {},
     "output_type": "display_data"
    },
    {
     "name": "stdout",
     "output_type": "stream",
     "text": [
      "gx 0.1923\n",
      "gy 0.0006\n",
      "w 0.5572\n"
     ]
    },
    {
     "data": {
      "image/png": "[encoded data removed]",
      "text/plain": [
       "<Figure size 432x288 with 1 Axes>"
      ]
     },
     "metadata": {},
     "output_type": "display_data"
    },
    {
     "data": {
      "image/png": "[encoded data removed]",
      "text/plain": [
       "<Figure size 432x288 with 2 Axes>"
      ]
     },
     "metadata": {},
     "output_type": "display_data"
    }
   ],
   "source": [
    "#rotated\n",
    "at = -1\n",
    "\n",
    "xh = allRots[at]@X[at,:]\n",
    "ph = []\n",
    "for p in paths:\n",
    "    ph.append(xh-allRots[at]@p[at,:])\n",
    "\n",
    "ph = np.stack(ph)\n",
    "_,_,rr = np.linalg.svd(ph[:,1:])\n",
    "\n",
    "ph[:,1:] = (rr@ph[:,1:].T).T\n",
    "\n",
    "scat_and_dist([p[1] for p in ph],[p[2] for p in ph])\n",
    "print(f'gx {np.std([p[1] for p in ph]):.4f}')\n",
    "print(f'gy {np.std([p[2] for p in ph]):.4f}')\n",
    "print(f'w {np.std([p[0] for p in ph]):.4f}')\n",
    "plt.figure()\n",
    "plt.hist([p[1] for p in ph])\n",
    "plt.xlabel('dt')\n",
    "plt.show()\n",
    "\n",
    "\n",
    "plt.figure()\n",
    "plt.subplot(2,1,1)\n",
    "plt.scatter(0,0,c='r')\n",
    "for p in ph:\n",
    "    plt.scatter(p[1],p[2],c='k',s=10)\n",
    "plt.ylabel(f'gy {np.std([p[2] for p in ph]):.4f}')\n",
    "plt.subplot(2,1,2)\n",
    "plt.scatter(0,0,c='r')\n",
    "for p in ph:\n",
    "    plt.scatter(p[1],p[0],c='k',s=10)\n",
    "plt.ylabel(f'dt {np.std([p[0] for p in ph]):.4f}')\n",
    "plt.xlabel(f'gx {np.std([p[1] for p in ph]):.4f}')\n",
    "plt.show()"
   ]
  },
  {
   "cell_type": "code",
   "execution_count": 71,
   "metadata": {},
   "outputs": [
    {
     "data": {
      "text/plain": [
       "array([[ 5.59060179e-37,  2.15171323e-35],\n",
       "       [-1.90659782e-36, -7.33812191e-35]])"
      ]
     },
     "execution_count": 71,
     "metadata": {},
     "output_type": "execute_result"
    }
   ],
   "source": [
    "Gtot = np.eye(2)\n",
    "for G in allGecobian:\n",
    "    Gtot=G@Gtot\n",
    "Gtot"
   ]
  },
  {
   "cell_type": "code",
   "execution_count": 73,
   "metadata": {},
   "outputs": [
    {
     "data": {
      "text/plain": [
       "array([0.09242875, 0.05925719])"
      ]
     },
     "execution_count": 73,
     "metadata": {},
     "output_type": "execute_result"
    }
   ],
   "source": [
    "np.exp(LyapExp)*spread"
   ]
  },
  {
   "cell_type": "code",
   "execution_count": 48,
   "metadata": {},
   "outputs": [],
   "source": [
    "paths = []\n",
    "deltax = []\n",
    "npaths = 100\n",
    "spread = 0.1\n",
    "for n in range(npaths):\n",
    "    deltax.append(np.random.randn(3,)*spread)\n",
    "    paths.append(just_integrate(T,llorentz,Dlorentz,x0+deltax[-1],DT,substeps,transient=0,shorttime=5))\n"
   ]
  },
  {
   "cell_type": "code",
   "execution_count": 49,
   "metadata": {},
   "outputs": [
    {
     "data": {
      "image/png": "[encoded data removed]",
      "text/plain": [
       "<Figure size 432x288 with 2 Axes>"
      ]
     },
     "metadata": {
      "needs_background": "light"
     },
     "output_type": "display_data"
    }
   ],
   "source": [
    "plt.figure()\n",
    "plt.subplot(2,1,1)\n",
    "plt.scatter(X[:,0],X[:,1],c='r')\n",
    "for p in paths:\n",
    "    plt.scatter(p[:,0],p[:,1],c='k',s=1)\n",
    "plt.ylabel('y')\n",
    "plt.subplot(2,1,2)\n",
    "plt.scatter(X[:,0],X[:,2],c='r')\n",
    "for p in paths:\n",
    "    plt.scatter(p[:,0],p[:,2],c='k',s=1)\n",
    "plt.ylabel('z')\n",
    "plt.xlabel('x')\n",
    "plt.show()"
   ]
  },
  {
   "cell_type": "code",
   "execution_count": 74,
   "metadata": {},
   "outputs": [
    {
     "data": {
      "image/png": "[encoded data removed]",
      "text/plain": [
       "<Figure size 432x288 with 3 Axes>"
      ]
     },
     "metadata": {
      "needs_background": "light"
     },
     "output_type": "display_data"
    },
    {
     "name": "stdout",
     "output_type": "stream",
     "text": [
      "gx 0.1923\n",
      "gy 0.0006\n",
      "w 0.5572\n"
     ]
    },
    {
     "data": {
      "image/png": "[encoded data removed]",
      "text/plain": [
       "<Figure size 432x288 with 1 Axes>"
      ]
     },
     "metadata": {
      "needs_background": "light"
     },
     "output_type": "display_data"
    },
    {
     "data": {
      "image/png": "[encoded data removed]",
      "text/plain": [
       "<Figure size 432x288 with 2 Axes>"
      ]
     },
     "metadata": {
      "needs_background": "light"
     },
     "output_type": "display_data"
    }
   ],
   "source": [
    "#rotated\n",
    "at = -1\n",
    "\n",
    "xh = allRots[at]@X[at,:]\n",
    "ph = []\n",
    "for p in paths:\n",
    "    ph.append(xh-allRots[at]@p[at,:])\n",
    "\n",
    "ph = np.stack(ph)\n",
    "_,_,rr = np.linalg.svd(ph[:,1:])\n",
    "\n",
    "ph[:,1:] = (rr@ph[:,1:].T).T\n",
    "\n",
    "scat_and_dist([p[1] for p in ph],[p[2] for p in ph])\n",
    "print(f'gx {np.std([p[1] for p in ph]):.4f}')\n",
    "print(f'gy {np.std([p[2] for p in ph]):.4f}')\n",
    "print(f'w {np.std([p[0] for p in ph]):.4f}')\n",
    "plt.figure()\n",
    "plt.hist([p[1] for p in ph])\n",
    "plt.xlabel('dt')\n",
    "plt.show()\n",
    "\n",
    "\n",
    "plt.figure()\n",
    "plt.subplot(2,1,1)\n",
    "plt.scatter(0,0,c='r')\n",
    "for p in ph:\n",
    "    plt.scatter(p[1],p[2],c='k',s=10)\n",
    "plt.ylabel(f'gy {np.std([p[2] for p in ph]):.4f}')\n",
    "plt.subplot(2,1,2)\n",
    "plt.scatter(0,0,c='r')\n",
    "for p in ph:\n",
    "    plt.scatter(p[1],p[0],c='k',s=10)\n",
    "plt.ylabel(f'dt {np.std([p[0] for p in ph]):.4f}')\n",
    "plt.xlabel(f'gx {np.std([p[1] for p in ph]):.4f}')\n",
    "plt.show()"
   ]
  },
  {
   "cell_type": "code",
   "execution_count": null,
   "metadata": {},
   "outputs": [],
   "source": []
  },
  {
   "cell_type": "code",
   "execution_count": null,
   "metadata": {},
   "outputs": [
    {
     "data": {
      "image/png": "[encoded data removed]",
      "text/plain": [
       "<Figure size 432x288 with 3 Axes>"
      ]
     },
     "metadata": {},
     "output_type": "display_data"
    },
    {
     "name": "stdout",
     "output_type": "stream",
     "text": [
      "gx 0.1510\n",
      "gy 0.1191\n"
     ]
    },
    {
     "data": {
      "image/png": "[encoded data removed]",
      "text/plain": [
       "<Figure size 432x288 with 1 Axes>"
      ]
     },
     "metadata": {},
     "output_type": "display_data"
    },
    {
     "data": {
      "image/png": "[encoded data removed]",
      "text/plain": [
       "<Figure size 432x288 with 2 Axes>"
      ]
     },
     "metadata": {},
     "output_type": "display_data"
    }
   ],
   "source": [
    "#rotated\n",
    "at = -1\n",
    "\n",
    "xh = allRots[at]@X[at,:]\n",
    "ph = []\n",
    "for p in paths:\n",
    "    ph.append(xh-all`Rots[at]@p[at,:])\n",
    "`\n",
    "scat_and_dist([p[1] for p in ph],[p[2] for p in ph])\n",
    "print(f'gx {np.std([p[1] for p in ph]):.4f}')\n",
    "print(f'gy {np.std([p[2] for p in ph]):.4f}')\n",
    "plt.figure()\n",
    "plt.hist([p[1] for p in ph])\n",
    "plt.xlabel('dt')\n",
    "plt.show()\n",
    "\n",
    "\n",
    "plt.figure()\n",
    "plt.subplot(2,1,1)\n",
    "plt.scatter(0,0,c='r')\n",
    "for p in ph:\n",
    "    plt.scatter(p[1],p[2],c='k',s=10)\n",
    "plt.ylabel(f'gy {np.std([p[2] for p in ph]):.4f}')\n",
    "plt.subplot(2,1,2)\n",
    "plt.scatter(0,0,c='r')\n",
    "for p in ph:\n",
    "    plt.scatter(p[1],p[0],c='k',s=10)\n",
    "plt.ylabel(f'dt {np.std([p[0] for p in ph]):.4f}')\n",
    "plt.xlabel(f'gx {np.std([p[1] for p in ph]):.4f}')\n",
    "plt.show()"
   ]
  },
  {
   "cell_type": "code",
   "execution_count": 16,
   "metadata": {},
   "outputs": [
    {
     "name": "stdout",
     "output_type": "stream",
     "text": [
      "\u001b[1;31mSignature:\u001b[0m \u001b[0mnp\u001b[0m\u001b[1;33m.\u001b[0m\u001b[0mlinalg\u001b[0m\u001b[1;33m.\u001b[0m\u001b[0meig\u001b[0m\u001b[1;33m(\u001b[0m\u001b[0ma\u001b[0m\u001b[1;33m)\u001b[0m\u001b[1;33m\u001b[0m\u001b[1;33m\u001b[0m\u001b[0m\n",
      "\u001b[1;31mDocstring:\u001b[0m\n",
      "Compute the eigenvalues and right eigenvectors of a square array.\n",
      "\n",
      "Parameters\n",
      "----------\n",
      "a : (..., M, M) array\n",
      "    Matrices for which the eigenvalues and right eigenvectors will\n",
      "    be computed\n",
      "\n",
      "Returns\n",
      "-------\n",
      "w : (..., M) array\n",
      "    The eigenvalues, each repeated according to its multiplicity.\n",
      "    The eigenvalues are not necessarily ordered. The resulting\n",
      "    array will be of complex type, unless the imaginary part is\n",
      "    zero in which case it will be cast to a real type. When `a`\n",
      "    is real the resulting eigenvalues will be real (0 imaginary\n",
      "    part) or occur in conjugate pairs\n",
      "\n",
      "v : (..., M, M) array\n",
      "    The normalized (unit \"length\") eigenvectors, such that the\n",
      "    column ``v[:,i]`` is the eigenvector corresponding to the\n",
      "    eigenvalue ``w[i]``.\n",
      "\n",
      "Raises\n",
      "------\n",
      "LinAlgError\n",
      "    If the eigenvalue computation does not converge.\n",
      "\n",
      "See Also\n",
      "--------\n",
      "eigvals : eigenvalues of a non-symmetric array.\n",
      "eigh : eigenvalues and eigenvectors of a real symmetric or complex\n",
      "       Hermitian (conjugate symmetric) array.\n",
      "eigvalsh : eigenvalues of a real symmetric or complex Hermitian\n",
      "           (conjugate symmetric) array.\n",
      "scipy.linalg.eig : Similar function in SciPy that also solves the\n",
      "                   generalized eigenvalue problem.\n",
      "scipy.linalg.schur : Best choice for unitary and other non-Hermitian\n",
      "                     normal matrices.\n",
      "\n",
      "Notes\n",
      "-----\n",
      "\n",
      ".. versionadded:: 1.8.0\n",
      "\n",
      "Broadcasting rules apply, see the `numpy.linalg` documentation for\n",
      "details.\n",
      "\n",
      "This is implemented using the ``_geev`` LAPACK routines which compute\n",
      "the eigenvalues and eigenvectors of general square arrays.\n",
      "\n",
      "The number `w` is an eigenvalue of `a` if there exists a vector\n",
      "`v` such that ``a @ v = w * v``. Thus, the arrays `a`, `w`, and\n",
      "`v` satisfy the equations ``a @ v[:,i] = w[i] * v[:,i]``\n",
      "for :math:`i \\in \\{0,...,M-1\\}`.\n",
      "\n",
      "The array `v` of eigenvectors may not be of maximum rank, that is, some\n",
      "of the columns may be linearly dependent, although round-off error may\n",
      "obscure that fact. If the eigenvalues are all different, then theoretically\n",
      "the eigenvectors are linearly independent and `a` can be diagonalized by\n",
      "a similarity transformation using `v`, i.e, ``inv(v) @ a @ v`` is diagonal.\n",
      "\n",
      "For non-Hermitian normal matrices the SciPy function `scipy.linalg.schur`\n",
      "is preferred because the matrix `v` is guaranteed to be unitary, which is\n",
      "not the case when using `eig`. The Schur factorization produces an\n",
      "upper triangular matrix rather than a diagonal matrix, but for normal\n",
      "matrices only the diagonal of the upper triangular matrix is needed, the\n",
      "rest is roundoff error.\n",
      "\n",
      "Finally, it is emphasized that `v` consists of the *right* (as in\n",
      "right-hand side) eigenvectors of `a`.  A vector `y` satisfying\n",
      "``y.T @ a = z * y.T`` for some number `z` is called a *left*\n",
      "eigenvector of `a`, and, in general, the left and right eigenvectors\n",
      "of a matrix are not necessarily the (perhaps conjugate) transposes\n",
      "of each other.\n",
      "\n",
      "References\n",
      "----------\n",
      "G. Strang, *Linear Algebra and Its Applications*, 2nd Ed., Orlando, FL,\n",
      "Academic Press, Inc., 1980, Various pp.\n",
      "\n",
      "Examples\n",
      "--------\n",
      ">>> from numpy import linalg as LA\n",
      "\n",
      "(Almost) trivial example with real e-values and e-vectors.\n",
      "\n",
      ">>> w, v = LA.eig(np.diag((1, 2, 3)))\n",
      ">>> w; v\n",
      "array([1., 2., 3.])\n",
      "array([[1., 0., 0.],\n",
      "       [0., 1., 0.],\n",
      "       [0., 0., 1.]])\n",
      "\n",
      "Real matrix possessing complex e-values and e-vectors; note that the\n",
      "e-values are complex conjugates of each other.\n",
      "\n",
      ">>> w, v = LA.eig(np.array([[1, -1], [1, 1]]))\n",
      ">>> w; v\n",
      "array([1.+1.j, 1.-1.j])\n",
      "array([[0.70710678+0.j        , 0.70710678-0.j        ],\n",
      "       [0.        -0.70710678j, 0.        +0.70710678j]])\n",
      "\n",
      "Complex-valued matrix with real e-values (but complex-valued e-vectors);\n",
      "note that ``a.conj().T == a``, i.e., `a` is Hermitian.\n",
      "\n",
      ">>> a = np.array([[1, 1j], [-1j, 1]])\n",
      ">>> w, v = LA.eig(a)\n",
      ">>> w; v\n",
      "array([2.+0.j, 0.+0.j])\n",
      "array([[ 0.        +0.70710678j,  0.70710678+0.j        ], # may vary\n",
      "       [ 0.70710678+0.j        , -0.        +0.70710678j]])\n",
      "\n",
      "Be careful about round-off error!\n",
      "\n",
      ">>> a = np.array([[1 + 1e-9, 0], [0, 1 - 1e-9]])\n",
      ">>> # Theor. e-values are 1 +/- 1e-9\n",
      ">>> w, v = LA.eig(a)\n",
      ">>> w; v\n",
      "array([1., 1.])\n",
      "array([[1., 0.],\n",
      "       [0., 1.]])\n",
      "\u001b[1;31mFile:\u001b[0m      c:\\programdata\\anaconda3\\lib\\site-packages\\numpy\\linalg\\linalg.py\n",
      "\u001b[1;31mType:\u001b[0m      function\n"
     ]
    }
   ],
   "source": [
    "np.linalg.eig?"
   ]
  },
  {
   "cell_type": "code",
   "execution_count": 21,
   "metadata": {},
   "outputs": [
    {
     "data": {
      "text/plain": [
       "array([0.72626873, 0.46826548])"
      ]
     },
     "execution_count": 21,
     "metadata": {},
     "output_type": "execute_result"
    }
   ],
   "source": [
    "np.exp(LyapExp)"
   ]
  },
  {
   "cell_type": "code",
   "execution_count": 23,
   "metadata": {},
   "outputs": [
    {
     "data": {
      "text/plain": [
       "0.37214"
      ]
     },
     "execution_count": 23,
     "metadata": {},
     "output_type": "execute_result"
    }
   ],
   "source": [
    "0.809*.46"
   ]
  },
  {
   "cell_type": "code",
   "execution_count": 18,
   "metadata": {},
   "outputs": [
    {
     "data": {
      "image/png": "[encoded data removed]",
      "text/plain": [
       "<Figure size 432x288 with 3 Axes>"
      ]
     },
     "metadata": {
      "needs_background": "light"
     },
     "output_type": "display_data"
    },
    {
     "name": "stdout",
     "output_type": "stream",
     "text": [
      "gx 0.0991\n",
      "gy 0.0069\n"
     ]
    },
    {
     "data": {
      "image/png": "[encoded data removed]",
      "text/plain": [
       "<Figure size 432x288 with 1 Axes>"
      ]
     },
     "metadata": {
      "needs_background": "light"
     },
     "output_type": "display_data"
    },
    {
     "data": {
      "image/png": "[encoded data removed]",
      "text/plain": [
       "<Figure size 432x288 with 2 Axes>"
      ]
     },
     "metadata": {
      "needs_background": "light"
     },
     "output_type": "display_data"
    }
   ],
   "source": [
    "#rotated\n",
    "at = -1\n",
    "\n",
    "xh = allRots[at]@X[at,:]\n",
    "ph = []\n",
    "for p in paths:\n",
    "    ph.append(xh-allRots[at]@p[at,:])\n",
    "\n",
    "scat_and_dist([p[1] for p in ph],[p[2] for p in ph])\n",
    "print(f'gx {np.std([p[1] for p in ph]):.4f}')\n",
    "print(f'gy {np.std([p[2] for p in ph]):.4f}')\n",
    "plt.figure()\n",
    "plt.hist([p[1] for p in ph])\n",
    "plt.xlabel('dt')\n",
    "plt.show()\n",
    "\n",
    "\n",
    "plt.figure()\n",
    "plt.subplot(2,1,1)\n",
    "plt.scatter(0,0,c='r')\n",
    "for p in ph:\n",
    "    plt.scatter(p[1],p[2],c='k',s=10)\n",
    "plt.ylabel(f'gy {np.std([p[2] for p in ph]):.4f}')\n",
    "plt.subplot(2,1,2)\n",
    "plt.scatter(0,0,c='r')\n",
    "for p in ph:\n",
    "    plt.scatter(p[1],p[0],c='k',s=10)\n",
    "plt.ylabel(f'dt {np.std([p[0] for p in ph]):.4f}')\n",
    "plt.xlabel(f'gx {np.std([p[1] for p in ph]):.4f}')\n",
    "plt.show()"
   ]
  },
  {
   "cell_type": "code",
   "execution_count": 19,
   "metadata": {},
   "outputs": [
    {
     "data": {
      "image/png": "[encoded data removed]",
      "text/plain": [
       "<Figure size 432x288 with 3 Axes>"
      ]
     },
     "metadata": {
      "needs_background": "light"
     },
     "output_type": "display_data"
    },
    {
     "name": "stdout",
     "output_type": "stream",
     "text": [
      "gx 0.1157\n",
      "gy 0.0890\n"
     ]
    },
    {
     "data": {
      "image/png": "[encoded data removed]",
      "text/plain": [
       "<Figure size 432x288 with 1 Axes>"
      ]
     },
     "metadata": {
      "needs_background": "light"
     },
     "output_type": "display_data"
    },
    {
     "data": {
      "image/png": "[encoded data removed]",
      "text/plain": [
       "<Figure size 432x288 with 2 Axes>"
      ]
     },
     "metadata": {
      "needs_background": "light"
     },
     "output_type": "display_data"
    }
   ],
   "source": [
    "#rotated\n",
    "at = 1\n",
    "\n",
    "xh = allRots[at]@X[at,:]\n",
    "ph = []\n",
    "for p in paths:\n",
    "    ph.append(xh-allRots[at]@p[at,:])\n",
    "\n",
    "scat_and_dist([p[1] for p in ph],[p[2] for p in ph])\n",
    "print(f'gx {np.std([p[1] for p in ph]):.4f}')\n",
    "print(f'gy {np.std([p[2] for p in ph]):.4f}')\n",
    "plt.figure()\n",
    "plt.hist([p[1] for p in ph])\n",
    "plt.xlabel('dt')\n",
    "plt.show()\n",
    "\n",
    "\n",
    "plt.figure()\n",
    "plt.subplot(2,1,1)\n",
    "plt.scatter(0,0,c='r')\n",
    "for p in ph:\n",
    "    plt.scatter(p[1],p[2],c='k',s=10)\n",
    "plt.ylabel(f'gy {np.std([p[2] for p in ph]):.4f}')\n",
    "plt.subplot(2,1,2)\n",
    "plt.scatter(0,0,c='r')\n",
    "for p in ph:\n",
    "    plt.scatter(p[1],p[0],c='k',s=10)\n",
    "plt.ylabel(f'dt {np.std([p[0] for p in ph]):.4f}')\n",
    "plt.xlabel(f'gx {np.std([p[1] for p in ph]):.4f}')\n",
    "plt.show()"
   ]
  },
  {
   "cell_type": "code",
   "execution_count": 98,
   "metadata": {},
   "outputs": [
    {
     "data": {
      "image/png": "[encoded data removed]",
      "text/plain": [
       "<Figure size 432x288 with 2 Axes>"
      ]
     },
     "metadata": {
      "needs_background": "light"
     },
     "output_type": "display_data"
    }
   ],
   "source": [
    "at = -11\n",
    "plt.figure()\n",
    "plt.subplot(2,1,1)\n",
    "plt.scatter(0,0,c='r')\n",
    "for p in paths:\n",
    "    plt.scatter(X[at,0]-p[at,0],X[at,1]-p[at,1],c='k',s=10)\n",
    "plt.ylabel('y')\n",
    "plt.subplot(2,1,2)\n",
    "plt.scatter(0,0,c='r')\n",
    "for p in paths:\n",
    "    plt.scatter(X[at,0]-p[at,0],X[at,2]-p[at,2],c='k',s=10)\n",
    "plt.ylabel('z')\n",
    "plt.xlabel('x')\n",
    "plt.show()"
   ]
  },
  {
   "cell_type": "code",
   "execution_count": 125,
   "metadata": {},
   "outputs": [],
   "source": []
  },
  {
   "cell_type": "code",
   "execution_count": 15,
   "metadata": {},
   "outputs": [],
   "source": [
    "T = 1000;\n",
    "DT=0.001;\n",
    "substeps=2;\n",
    "x0 = pnts[:,0]\n",
    "llorentz = lambda x: lorentz(0,x)\n",
    "f=llorentz\n",
    "Df=Dlorentz\n",
    "transient=0\n",
    "shorttime=5\n",
    "    \n",
    "def step(state,Phi):\n",
    "    delta_state = state\n",
    "    for j in range(substeps):\n",
    "        Phi,state = rk_iter(dt,f,Df,Phi,state)\n",
    "    delta_state = state-delta_state\n",
    "    return state, Phi, delta_state\n",
    "\n",
    "#initializing variables    \n",
    "state = x0\n",
    "n=len(x0)\n",
    "X = np.zeros((T,n))\n",
    "Phi = np.eye(n)\n",
    "allJacobian = np.zeros((T,n,n))\n",
    "allGecobian = np.zeros((T,n-1,n-1))\n",
    "allExpansionRates = np.zeros((T,n))\n",
    "LyapExp = np.zeros((n-1,))\n",
    "\n",
    "shortTimeLyap = np.zeros((T+shorttime-1,n-1))\n",
    "allBasis = np.zeros((T+transient,n,n))\n",
    "allRs = np.zeros((T+transient,n,n))\n",
    "allBasis_g = np.zeros((T+transient,n-1,n-1))\n",
    "allRs_g = np.zeros((T+transient,n-1,n-1))\n",
    "allOmega = np.zeros((T+transient,n))\n",
    "\n",
    "rotation_manager = utils.rot_keeper(d=3)\n",
    "\n",
    "# get some inital values in 1 step\n",
    "dt = DT/substeps\n",
    "\n",
    "state, Phi, ds = step(state,Phi)\n",
    "\n",
    "R = rotation_manager.get_rot(ds)\n",
    "\n",
    "Phi = R@Phi\n",
    "Fhi = Phi[0,:]\n",
    "G = Phi[1:,1:]\n",
    "\n",
    "basis = Phi\n",
    "basis,r = np.linalg.qr(basis,'complete')\n",
    "rd = np.diag(r)\n",
    "basis = basis@np.diag(np.sign(rd))\n",
    "rd = np.abs(rd)\n",
    "Phi = basis\n",
    "#LyapExp = (np.log(np.abs(rd))+LyapExp); #changed statement because i is zero indexed now   \n",
    "basis_g = G\n",
    "basis_g,r_g = np.linalg.qr(basis_g,'complete')\n",
    "rd_g = np.diag(r_g)\n",
    "basis_g = basis_g@np.diag(np.sign(rd_g))\n",
    "rd_g = np.abs(rd_g)\n",
    "G = basis_g\n"
   ]
  },
  {
   "cell_type": "code",
   "execution_count": 16,
   "metadata": {},
   "outputs": [],
   "source": [
    "for i in range(T+transient):\n",
    "\n",
    "    dt = DT/substeps\n",
    "\n",
    "    state, Phi, ds = step(state,Phi)\n",
    "\n",
    "    R = rotation_manager.get_rot(ds)\n",
    "\n",
    "    Phi = R@Phi\n",
    "    allOmega[i,:] = Phi[0,:]/ds\n",
    "    G = Phi[1:,1:]\n",
    "\n",
    "\n",
    "    if i<=T-1:\n",
    "        X[i,:] = state\n",
    "        allJacobian[i,:,:] = Phi@np.linalg.inv(basis) #replaces Phi/basis\n",
    "        allGecobian[i,:,:] = G@np.linalg.inv(basis_g) #replaces Phi/basis\n",
    "\n",
    "    basis = Phi\n",
    "    basis,r = np.linalg.qr(basis,'complete')\n",
    "    rd = np.diag(r)\n",
    "    basis = basis@np.diag(np.sign(rd))\n",
    "    r = np.diag(np.sign(rd))@r\n",
    "    Phi = basis\n",
    "\n",
    "    basis_g = G\n",
    "    basis_g,r_g = np.linalg.qr(basis_g,'complete')\n",
    "    rd_g = np.diag(r_g)\n",
    "    basis_g = basis_g@np.diag(np.sign(rd_g))\n",
    "    r_g = np.diag(np.sign(rd_g))@r_g\n",
    "    LyapExp = (np.log(np.diag(r_g))+LyapExp*i)/(1+i)\n",
    "    G = basis_g\n",
    "\n",
    "    allRs[i,:,:] = r\n",
    "    allBasis[i,:,:] = basis\n",
    "\n",
    "    if (i<T+shorttime-1):\n",
    "        shortTimeLyap[i,:] = np.log(np.diag(r_g))\n",
    "\n",
    "shortTimeLyap[0:(T),:] = np.apply_along_axis(lambda m: np.convolve(m, np.ones(shorttime)/shorttime, mode='valid'), \n",
    "                                                axis=0, arr=shortTimeLyap)\n",
    "shortTimeLyap = shortTimeLyap[:T,:]/DT\n",
    "\n",
    "coeff = np.triu(np.random.rand(n,n))\n",
    "for jj in range(n):\n",
    "    coeff[:,jj] = normalize(coeff[:,jj])\n",
    "\n",
    "for i in range(T+transient-1,0,-1):\n",
    "\n",
    "    coeff = np.linalg.solve(np.squeeze(allRs[i,:,:]),coeff); # same as squeeze(allRs(i,:,:))\\coeff;\n",
    "    coeff = np.triu(coeff)\n",
    "\n",
    "    for jj in range(n):\n",
    "        if (i<=T-1):\n",
    "            allExpansionRates[i,jj] = 1/norm(coeff[:,jj]) # ./ -> /\n",
    "        coeff[:,jj] = normalize(coeff[:,jj])\n",
    "\n",
    "    allBasis[i,:,:] = np.squeeze(allBasis[i,:,:])@coeff\n",
    "\n",
    "    for jj in range(n):\n",
    "        allBasis[i,:,jj] = normalize(allBasis[i,:,jj])\n",
    "\n",
    "allBasis = allBasis[:T,:,:]\n",
    "\n"
   ]
  },
  {
   "cell_type": "code",
   "execution_count": null,
   "metadata": {},
   "outputs": [],
   "source": []
  }
 ],
 "metadata": {
  "kernelspec": {
   "display_name": "Python 3 (ipykernel)",
   "language": "python",
   "name": "python3"
  },
  "language_info": {
   "codemirror_mode": {
    "name": "ipython",
    "version": 3
   },
   "file_extension": ".py",
   "mimetype": "text/x-python",
   "name": "python",
   "nbconvert_exporter": "python",
   "pygments_lexer": "ipython3",
   "version": "3.9.7"
  },
  "vscode": {
   "interpreter": {
    "hash": "ad2bdc8ecc057115af97d19610ffacc2b4e99fae6737bb82f5d7fb13d2f2c186"
   }
  }
 },
 "nbformat": 4,
 "nbformat_minor": 2
}
